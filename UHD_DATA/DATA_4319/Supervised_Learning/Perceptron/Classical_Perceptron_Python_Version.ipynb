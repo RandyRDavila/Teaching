{
 "cells": [
  {
   "cell_type": "markdown",
   "metadata": {},
   "source": [
    "# DATA 4319: Statistical & Machine Learning \n",
    "\n",
    "## The Perceptron Learning Model (Classical Version) with Python\n",
    "In this notebook we will implement the perceptron learning model in order to classify data from the [iris data set](https://en.wikipedia.org/wiki/Iris_flower_data_set). Our task is to predict the species of flower based off of measurements of sepeal length and width. This task is often referred to as the ''Hello World'' of machine learning.\n",
    "\n",
    "You will need to import the following packages:\n",
    " * numpy [documentation](http://www.numpy.org)\n",
    " * pandas [documentation](https://pandas.pydata.org)"
   ]
  },
  {
   "cell_type": "code",
   "execution_count": 1,
   "metadata": {},
   "outputs": [
    {
     "name": "stdout",
     "output_type": "stream",
     "text": [
      "     SepalLength  SepalWidth  PetalLength  PetalWidth    Species\n",
      "0            5.1         3.5          1.4         0.2     setosa\n",
      "1            4.9         3.0          1.4         0.2     setosa\n",
      "2            4.7         3.2          1.3         0.2     setosa\n",
      "3            4.6         3.1          1.5         0.2     setosa\n",
      "4            5.0         3.6          1.4         0.2     setosa\n",
      "5            5.4         3.9          1.7         0.4     setosa\n",
      "6            4.6         3.4          1.4         0.3     setosa\n",
      "7            5.0         3.4          1.5         0.2     setosa\n",
      "8            4.4         2.9          1.4         0.2     setosa\n",
      "9            4.9         3.1          1.5         0.1     setosa\n",
      "10           5.4         3.7          1.5         0.2     setosa\n",
      "11           4.8         3.4          1.6         0.2     setosa\n",
      "12           4.8         3.0          1.4         0.1     setosa\n",
      "13           4.3         3.0          1.1         0.1     setosa\n",
      "14           5.8         4.0          1.2         0.2     setosa\n",
      "15           5.7         4.4          1.5         0.4     setosa\n",
      "16           5.4         3.9          1.3         0.4     setosa\n",
      "17           5.1         3.5          1.4         0.3     setosa\n",
      "18           5.7         3.8          1.7         0.3     setosa\n",
      "19           5.1         3.8          1.5         0.3     setosa\n",
      "20           5.4         3.4          1.7         0.2     setosa\n",
      "21           5.1         3.7          1.5         0.4     setosa\n",
      "22           4.6         3.6          1.0         0.2     setosa\n",
      "23           5.1         3.3          1.7         0.5     setosa\n",
      "24           4.8         3.4          1.9         0.2     setosa\n",
      "25           5.0         3.0          1.6         0.2     setosa\n",
      "26           5.0         3.4          1.6         0.4     setosa\n",
      "27           5.2         3.5          1.5         0.2     setosa\n",
      "28           5.2         3.4          1.4         0.2     setosa\n",
      "29           4.7         3.2          1.6         0.2     setosa\n",
      "..           ...         ...          ...         ...        ...\n",
      "120          6.9         3.2          5.7         2.3  virginica\n",
      "121          5.6         2.8          4.9         2.0  virginica\n",
      "122          7.7         2.8          6.7         2.0  virginica\n",
      "123          6.3         2.7          4.9         1.8  virginica\n",
      "124          6.7         3.3          5.7         2.1  virginica\n",
      "125          7.2         3.2          6.0         1.8  virginica\n",
      "126          6.2         2.8          4.8         1.8  virginica\n",
      "127          6.1         3.0          4.9         1.8  virginica\n",
      "128          6.4         2.8          5.6         2.1  virginica\n",
      "129          7.2         3.0          5.8         1.6  virginica\n",
      "130          7.4         2.8          6.1         1.9  virginica\n",
      "131          7.9         3.8          6.4         2.0  virginica\n",
      "132          6.4         2.8          5.6         2.2  virginica\n",
      "133          6.3         2.8          5.1         1.5  virginica\n",
      "134          6.1         2.6          5.6         1.4  virginica\n",
      "135          7.7         3.0          6.1         2.3  virginica\n",
      "136          6.3         3.4          5.6         2.4  virginica\n",
      "137          6.4         3.1          5.5         1.8  virginica\n",
      "138          6.0         3.0          4.8         1.8  virginica\n",
      "139          6.9         3.1          5.4         2.1  virginica\n",
      "140          6.7         3.1          5.6         2.4  virginica\n",
      "141          6.9         3.1          5.1         2.3  virginica\n",
      "142          5.8         2.7          5.1         1.9  virginica\n",
      "143          6.8         3.2          5.9         2.3  virginica\n",
      "144          6.7         3.3          5.7         2.5  virginica\n",
      "145          6.7         3.0          5.2         2.3  virginica\n",
      "146          6.3         2.5          5.0         1.9  virginica\n",
      "147          6.5         3.0          5.2         2.0  virginica\n",
      "148          6.2         3.4          5.4         2.3  virginica\n",
      "149          5.9         3.0          5.1         1.8  virginica\n",
      "\n",
      "[150 rows x 5 columns]\n"
     ]
    }
   ],
   "source": [
    "import numpy as np\n",
    "import pandas as pd\n",
    "import matplotlib.pyplot as plt\n",
    "\n",
    "# Read the desired dataset using pd.read_csv(dataset); note that this reads as a dataframe\n",
    "df = pd.read_csv('iris_data.csv')\n",
    "print(df)"
   ]
  },
  {
   "cell_type": "code",
   "execution_count": 2,
   "metadata": {},
   "outputs": [],
   "source": [
    "# We save the first two entries from the iris data set \n",
    "X = [np.array([1.0, df['SepalLength'][i], df['SepalWidth'][i]]) for i in range(101)]\n",
    "\n",
    "# Convert the species label to a numeric valua\n",
    "make_int = lambda label: 1 if label == 'setosa' else -1\n",
    "Y = [make_int(df['Species'][i]) for i in range(101)]"
   ]
  },
  {
   "cell_type": "code",
   "execution_count": 8,
   "metadata": {},
   "outputs": [],
   "source": [
    "# Set perceptron hypothesis: h(x) = sign(w^T*x)\n",
    "def h(weight_vector, data_vector):\n",
    "    \"\"\" Sign Function.\n",
    "    \n",
    "    Keyword arguments:\n",
    "        weights     -- real valued numpy array\n",
    "        data_vector -- real valued numpy array\n",
    "        \n",
    "    Output:\n",
    "        x in {-1, 1}\n",
    "    \n",
    "    \"\"\"\n",
    "    if weight_vector @ data_vector > 0:\n",
    "        return 1\n",
    "    else:\n",
    "        return -1"
   ]
  },
  {
   "cell_type": "code",
   "execution_count": 4,
   "metadata": {},
   "outputs": [],
   "source": [
    "def PLA(input_data, input_labels, iterations = 1000):\n",
    "    \"\"\" Perceptron Learning Algorithm.\n",
    "    \n",
    "    Keyword arguments:\n",
    "        input_data   -- list of real valued data points stored as numpy arrays\n",
    "        input_labels -- list of elements from {1, -1} \n",
    "        iterations   -- number of iterations of the perceptron update rule (default 1000)\n",
    "        \n",
    "    Output:\n",
    "        weights      -- three dimensional weight vector stored as a numpy array \n",
    "    \n",
    "    \"\"\"\n",
    "    \n",
    "    weights = np.random.rand(3)\n",
    "    number_of_data_entries = len(input_labels)\n",
    "    \n",
    "    for _ in range(iterations):\n",
    "        i = np.random.randint(number_of_data_entries)\n",
    "        if h(weights, input_data[i]) != input_labels[i]:\n",
    "            weights += input_labels[i]*input_data[i]\n",
    "    \n",
    "    return weights"
   ]
  },
  {
   "cell_type": "code",
   "execution_count": 5,
   "metadata": {},
   "outputs": [],
   "source": [
    "# Iterate the perceptron learning algorithm 1000 times \n",
    "w = PLA(X, Y, 1000)"
   ]
  },
  {
   "cell_type": "code",
   "execution_count": 6,
   "metadata": {},
   "outputs": [],
   "source": [
    "def predict(w, i):\n",
    "    if h(w, X[i]) == 1:\n",
    "        return 'Setosa'\n",
    "    else:\n",
    "        return 'Versicolor'"
   ]
  },
  {
   "cell_type": "code",
   "execution_count": 7,
   "metadata": {},
   "outputs": [
    {
     "data": {
      "text/plain": [
       "'Versicolor'"
      ]
     },
     "execution_count": 7,
     "metadata": {},
     "output_type": "execute_result"
    }
   ],
   "source": [
    "predict(w, 55)"
   ]
  },
  {
   "cell_type": "code",
   "execution_count": null,
   "metadata": {},
   "outputs": [],
   "source": []
  }
 ],
 "metadata": {
  "kernelspec": {
   "display_name": "Python 3",
   "language": "python",
   "name": "python3"
  },
  "language_info": {
   "codemirror_mode": {
    "name": "ipython",
    "version": 3
   },
   "file_extension": ".py",
   "mimetype": "text/x-python",
   "name": "python",
   "nbconvert_exporter": "python",
   "pygments_lexer": "ipython3",
   "version": "3.7.6"
  }
 },
 "nbformat": 4,
 "nbformat_minor": 2
}
