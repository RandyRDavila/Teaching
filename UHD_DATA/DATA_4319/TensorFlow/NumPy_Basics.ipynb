{
 "cells": [
  {
   "cell_type": "code",
   "execution_count": 1,
   "metadata": {},
   "outputs": [],
   "source": [
    "# Import the NumPy package\n",
    "import numpy as np"
   ]
  },
  {
   "cell_type": "markdown",
   "metadata": {},
   "source": [
    "The fundamental type used by NumPy is the numpy array"
   ]
  },
  {
   "cell_type": "code",
   "execution_count": 6,
   "metadata": {},
   "outputs": [
    {
     "name": "stdout",
     "output_type": "stream",
     "text": [
      "[12  3  6 14]\n"
     ]
    }
   ],
   "source": [
    "x = np.array([12, 3, 6, 14])\n",
    "print(x)"
   ]
  },
  {
   "cell_type": "code",
   "execution_count": 7,
   "metadata": {},
   "outputs": [
    {
     "data": {
      "text/plain": [
       "3"
      ]
     },
     "execution_count": 7,
     "metadata": {},
     "output_type": "execute_result"
    }
   ],
   "source": [
    "# Indicies start at 0!\n",
    "x[1]"
   ]
  },
  {
   "cell_type": "code",
   "execution_count": 8,
   "metadata": {},
   "outputs": [
    {
     "data": {
      "text/plain": [
       "4"
      ]
     },
     "execution_count": 8,
     "metadata": {},
     "output_type": "execute_result"
    }
   ],
   "source": [
    "# Find the length of x\n",
    "len(x)"
   ]
  },
  {
   "cell_type": "code",
   "execution_count": 9,
   "metadata": {},
   "outputs": [
    {
     "data": {
      "text/plain": [
       "(4,)"
      ]
     },
     "execution_count": 9,
     "metadata": {},
     "output_type": "execute_result"
    }
   ],
   "source": [
    "# Find the dimensions\n",
    "x.shape"
   ]
  },
  {
   "cell_type": "code",
   "execution_count": 11,
   "metadata": {},
   "outputs": [],
   "source": [
    "# Matrices are 2-D numpy arrays\n",
    "A = np.array([[5, 78, 2, 38, 0],\n",
    "              [6, 79, 3, 35, 1],\n",
    "              [7, 80, 4, 36, 21]])"
   ]
  },
  {
   "cell_type": "code",
   "execution_count": 12,
   "metadata": {},
   "outputs": [
    {
     "name": "stdout",
     "output_type": "stream",
     "text": [
      "[[ 5 78  2 38  0]\n",
      " [ 6 79  3 35  1]\n",
      " [ 7 80  4 36 21]]\n"
     ]
    }
   ],
   "source": [
    "print(A)"
   ]
  },
  {
   "cell_type": "code",
   "execution_count": 14,
   "metadata": {},
   "outputs": [
    {
     "data": {
      "text/plain": [
       "(3, 5)"
      ]
     },
     "execution_count": 14,
     "metadata": {},
     "output_type": "execute_result"
    }
   ],
   "source": [
    "A.shape"
   ]
  },
  {
   "cell_type": "code",
   "execution_count": 17,
   "metadata": {},
   "outputs": [
    {
     "name": "stdout",
     "output_type": "stream",
     "text": [
      "[0.72817585 0.52652038 0.40305578 0.94882436]\n"
     ]
    }
   ],
   "source": [
    "# NumPY also supports random vectors and matrices \n",
    "x = np.random.rand(4)\n",
    "print(x)"
   ]
  },
  {
   "cell_type": "code",
   "execution_count": 19,
   "metadata": {},
   "outputs": [
    {
     "name": "stdout",
     "output_type": "stream",
     "text": [
      "[[0.18563186 0.79036229 0.61364486 0.60869156]\n",
      " [0.66441528 0.45920012 0.85969103 0.9765878 ]\n",
      " [0.76129857 0.32669153 0.81413236 0.51494385]\n",
      " [0.16721523 0.63300943 0.71292529 0.9547418 ]\n",
      " [0.88699471 0.07865154 0.53895812 0.73771608]\n",
      " [0.36183053 0.09286325 0.3501037  0.86772532]\n",
      " [0.60724025 0.89609528 0.9097641  0.59034711]\n",
      " [0.47488939 0.07488651 0.70087695 0.18675008]\n",
      " [0.39434587 0.70597769 0.31276908 0.23359982]\n",
      " [0.83863126 0.1225889  0.19199628 0.02620194]]\n"
     ]
    }
   ],
   "source": [
    "A = np.random.rand(10, 4)\n",
    "print(A)"
   ]
  },
  {
   "cell_type": "code",
   "execution_count": 20,
   "metadata": {},
   "outputs": [
    {
     "data": {
      "text/plain": [
       "array([1.37618897, 1.99870312, 1.543101  , 1.6482854 , 1.60449294,\n",
       "       1.27680089, 1.84081152, 0.84491779, 1.00657337, 0.77746283])"
      ]
     },
     "execution_count": 20,
     "metadata": {},
     "output_type": "execute_result"
    }
   ],
   "source": [
    "# Vector products use the \"@\" symbol\n",
    "A @ x"
   ]
  },
  {
   "cell_type": "code",
   "execution_count": 24,
   "metadata": {},
   "outputs": [
    {
     "data": {
      "text/plain": [
       "array([[0.18563186, 0.66441528, 0.76129857, 0.16721523, 0.88699471,\n",
       "        0.36183053, 0.60724025, 0.47488939, 0.39434587, 0.83863126],\n",
       "       [0.79036229, 0.45920012, 0.32669153, 0.63300943, 0.07865154,\n",
       "        0.09286325, 0.89609528, 0.07488651, 0.70597769, 0.1225889 ],\n",
       "       [0.61364486, 0.85969103, 0.81413236, 0.71292529, 0.53895812,\n",
       "        0.3501037 , 0.9097641 , 0.70087695, 0.31276908, 0.19199628],\n",
       "       [0.60869156, 0.9765878 , 0.51494385, 0.9547418 , 0.73771608,\n",
       "        0.86772532, 0.59034711, 0.18675008, 0.23359982, 0.02620194]])"
      ]
     },
     "execution_count": 24,
     "metadata": {},
     "output_type": "execute_result"
    }
   ],
   "source": [
    "# Transpose can be a little messy \n",
    "np.transpose(A)"
   ]
  },
  {
   "cell_type": "code",
   "execution_count": 35,
   "metadata": {},
   "outputs": [
    {
     "data": {
      "text/plain": [
       "2"
      ]
     },
     "execution_count": 35,
     "metadata": {},
     "output_type": "execute_result"
    }
   ],
   "source": [
    "A.ndim"
   ]
  },
  {
   "cell_type": "code",
   "execution_count": null,
   "metadata": {},
   "outputs": [],
   "source": []
  }
 ],
 "metadata": {
  "kernelspec": {
   "display_name": "Python 3",
   "language": "python",
   "name": "python3"
  },
  "language_info": {
   "codemirror_mode": {
    "name": "ipython",
    "version": 3
   },
   "file_extension": ".py",
   "mimetype": "text/x-python",
   "name": "python",
   "nbconvert_exporter": "python",
   "pygments_lexer": "ipython3",
   "version": "3.7.2"
  }
 },
 "nbformat": 4,
 "nbformat_minor": 2
}
