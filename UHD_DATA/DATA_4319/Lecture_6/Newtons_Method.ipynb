{
 "cells": [
  {
   "cell_type": "code",
   "execution_count": 1,
   "metadata": {},
   "outputs": [],
   "source": [
    "using Plots"
   ]
  },
  {
   "cell_type": "code",
   "execution_count": 2,
   "metadata": {},
   "outputs": [
    {
     "data": {
      "text/plain": [
       "f (generic function with 1 method)"
      ]
     },
     "execution_count": 2,
     "metadata": {},
     "output_type": "execute_result"
    }
   ],
   "source": [
    "f(x) = x^2 - 2"
   ]
  },
  {
   "cell_type": "code",
   "execution_count": 3,
   "metadata": {},
   "outputs": [
    {
     "data": {
      "text/plain": [
       "df (generic function with 1 method)"
      ]
     },
     "execution_count": 3,
     "metadata": {},
     "output_type": "execute_result"
    }
   ],
   "source": [
    "df(f,x,ϵ) =  (f(x+ϵ)-f(x))/ϵ"
   ]
  },
  {
   "cell_type": "code",
   "execution_count": 8,
   "metadata": {},
   "outputs": [
    {
     "data": {
      "text/plain": [
       "6.000000087880153"
      ]
     },
     "execution_count": 8,
     "metadata": {},
     "output_type": "execute_result"
    }
   ],
   "source": [
    "df(f, 3.0, 0.0000001)"
   ]
  },
  {
   "cell_type": "code",
   "execution_count": 9,
   "metadata": {},
   "outputs": [
    {
     "data": {
      "text/plain": [
       "Newtons_Method (generic function with 1 method)"
      ]
     },
     "execution_count": 9,
     "metadata": {},
     "output_type": "execute_result"
    }
   ],
   "source": [
    "function Newtons_Method(f, x_guess, ϵ)\n",
    "    \n",
    "    x_old = x_guess\n",
    "    x_new = x_old - f(x_old)/df(f, x_old, 0.00001)\n",
    "    \n",
    "    while abs(x_new - x_old) > ϵ\n",
    "        x_old, x_new = x_new, x_new - f(x_new)/df(f, x_new, 0.00001)\n",
    "    end\n",
    "    \n",
    "    return x_new\n",
    "end\n",
    "       \n",
    "    \n",
    "    \n",
    "    "
   ]
  },
  {
   "cell_type": "code",
   "execution_count": 10,
   "metadata": {},
   "outputs": [
    {
     "data": {
      "text/plain": [
       "1.4142135623731877"
      ]
     },
     "execution_count": 10,
     "metadata": {},
     "output_type": "execute_result"
    }
   ],
   "source": [
    "Newtons_Method(f, 10000, 0.00001)"
   ]
  },
  {
   "cell_type": "code",
   "execution_count": 11,
   "metadata": {},
   "outputs": [
    {
     "data": {
      "text/plain": [
       "f (generic function with 1 method)"
      ]
     },
     "execution_count": 11,
     "metadata": {},
     "output_type": "execute_result"
    }
   ],
   "source": [
    "f(x) = (x-2)^2 - 4"
   ]
  },
  {
   "cell_type": "code",
   "execution_count": 13,
   "metadata": {},
   "outputs": [
    {
     "data": {
      "image/svg+xml": [
       "<?xml version=\"1.0\" encoding=\"utf-8\"?>\n",
       "<svg xmlns=\"http://www.w3.org/2000/svg\" xmlns:xlink=\"http://www.w3.org/1999/xlink\" width=\"600\" height=\"400\" viewBox=\"0 0 2400 1600\">\n",
       "<defs>\n",
       "  <clipPath id=\"clip0900\">\n",
       "    <rect x=\"0\" y=\"0\" width=\"2000\" height=\"2000\"/>\n",
       "  </clipPath>\n",
       "</defs>\n",
       "<defs>\n",
       "  <clipPath id=\"clip0901\">\n",
       "    <rect x=\"0\" y=\"0\" width=\"2400\" height=\"1600\"/>\n",
       "  </clipPath>\n",
       "</defs>\n",
       "<polygon clip-path=\"url(#clip0901)\" points=\"\n",
       "0,1600 2400,1600 2400,0 0,0 \n",
       "  \" fill=\"#ffffff\" fill-rule=\"evenodd\" fill-opacity=\"1\"/>\n",
       "<defs>\n",
       "  <clipPath id=\"clip0902\">\n",
       "    <rect x=\"480\" y=\"0\" width=\"1681\" height=\"1600\"/>\n",
       "  </clipPath>\n",
       "</defs>\n",
       "<polygon clip-path=\"url(#clip0901)\" points=\"\n",
       "148.013,1503.47 2321.26,1503.47 2321.26,47.2441 148.013,47.2441 \n",
       "  \" fill=\"#ffffff\" fill-rule=\"evenodd\" fill-opacity=\"1\"/>\n",
       "<defs>\n",
       "  <clipPath id=\"clip0903\">\n",
       "    <rect x=\"148\" y=\"47\" width=\"2174\" height=\"1457\"/>\n",
       "  </clipPath>\n",
       "</defs>\n",
       "<polyline clip-path=\"url(#clip0903)\" style=\"stroke:#000000; stroke-width:2; stroke-opacity:0.1; fill:none\" points=\"\n",
       "  614.102,1503.47 614.102,47.2441 \n",
       "  \"/>\n",
       "<polyline clip-path=\"url(#clip0903)\" style=\"stroke:#000000; stroke-width:2; stroke-opacity:0.1; fill:none\" points=\"\n",
       "  1132.49,1503.47 1132.49,47.2441 \n",
       "  \"/>\n",
       "<polyline clip-path=\"url(#clip0903)\" style=\"stroke:#000000; stroke-width:2; stroke-opacity:0.1; fill:none\" points=\"\n",
       "  1650.87,1503.47 1650.87,47.2441 \n",
       "  \"/>\n",
       "<polyline clip-path=\"url(#clip0903)\" style=\"stroke:#000000; stroke-width:2; stroke-opacity:0.1; fill:none\" points=\"\n",
       "  2169.25,1503.47 2169.25,47.2441 \n",
       "  \"/>\n",
       "<polyline clip-path=\"url(#clip0903)\" style=\"stroke:#000000; stroke-width:2; stroke-opacity:0.1; fill:none\" points=\"\n",
       "  148.013,1306.35 2321.26,1306.35 \n",
       "  \"/>\n",
       "<polyline clip-path=\"url(#clip0903)\" style=\"stroke:#000000; stroke-width:2; stroke-opacity:0.1; fill:none\" points=\"\n",
       "  148.013,916.518 2321.26,916.518 \n",
       "  \"/>\n",
       "<polyline clip-path=\"url(#clip0903)\" style=\"stroke:#000000; stroke-width:2; stroke-opacity:0.1; fill:none\" points=\"\n",
       "  148.013,526.687 2321.26,526.687 \n",
       "  \"/>\n",
       "<polyline clip-path=\"url(#clip0903)\" style=\"stroke:#000000; stroke-width:2; stroke-opacity:0.1; fill:none\" points=\"\n",
       "  148.013,136.855 2321.26,136.855 \n",
       "  \"/>\n",
       "<polyline clip-path=\"url(#clip0901)\" style=\"stroke:#000000; stroke-width:4; stroke-opacity:1; fill:none\" points=\"\n",
       "  148.013,1503.47 2321.26,1503.47 \n",
       "  \"/>\n",
       "<polyline clip-path=\"url(#clip0901)\" style=\"stroke:#000000; stroke-width:4; stroke-opacity:1; fill:none\" points=\"\n",
       "  148.013,1503.47 148.013,47.2441 \n",
       "  \"/>\n",
       "<polyline clip-path=\"url(#clip0901)\" style=\"stroke:#000000; stroke-width:4; stroke-opacity:1; fill:none\" points=\"\n",
       "  614.102,1503.47 614.102,1481.63 \n",
       "  \"/>\n",
       "<polyline clip-path=\"url(#clip0901)\" style=\"stroke:#000000; stroke-width:4; stroke-opacity:1; fill:none\" points=\"\n",
       "  1132.49,1503.47 1132.49,1481.63 \n",
       "  \"/>\n",
       "<polyline clip-path=\"url(#clip0901)\" style=\"stroke:#000000; stroke-width:4; stroke-opacity:1; fill:none\" points=\"\n",
       "  1650.87,1503.47 1650.87,1481.63 \n",
       "  \"/>\n",
       "<polyline clip-path=\"url(#clip0901)\" style=\"stroke:#000000; stroke-width:4; stroke-opacity:1; fill:none\" points=\"\n",
       "  2169.25,1503.47 2169.25,1481.63 \n",
       "  \"/>\n",
       "<polyline clip-path=\"url(#clip0901)\" style=\"stroke:#000000; stroke-width:4; stroke-opacity:1; fill:none\" points=\"\n",
       "  148.013,1306.35 180.612,1306.35 \n",
       "  \"/>\n",
       "<polyline clip-path=\"url(#clip0901)\" style=\"stroke:#000000; stroke-width:4; stroke-opacity:1; fill:none\" points=\"\n",
       "  148.013,916.518 180.612,916.518 \n",
       "  \"/>\n",
       "<polyline clip-path=\"url(#clip0901)\" style=\"stroke:#000000; stroke-width:4; stroke-opacity:1; fill:none\" points=\"\n",
       "  148.013,526.687 180.612,526.687 \n",
       "  \"/>\n",
       "<polyline clip-path=\"url(#clip0901)\" style=\"stroke:#000000; stroke-width:4; stroke-opacity:1; fill:none\" points=\"\n",
       "  148.013,136.855 180.612,136.855 \n",
       "  \"/>\n",
       "<g clip-path=\"url(#clip0901)\">\n",
       "<text style=\"fill:#000000; fill-opacity:1; font-family:Arial,Helvetica Neue,Helvetica,sans-serif; font-size:48px; text-anchor:middle;\" transform=\"rotate(0, 614.102, 1557.47)\" x=\"614.102\" y=\"1557.47\">0.0</text>\n",
       "</g>\n",
       "<g clip-path=\"url(#clip0901)\">\n",
       "<text style=\"fill:#000000; fill-opacity:1; font-family:Arial,Helvetica Neue,Helvetica,sans-serif; font-size:48px; text-anchor:middle;\" transform=\"rotate(0, 1132.49, 1557.47)\" x=\"1132.49\" y=\"1557.47\">2.5</text>\n",
       "</g>\n",
       "<g clip-path=\"url(#clip0901)\">\n",
       "<text style=\"fill:#000000; fill-opacity:1; font-family:Arial,Helvetica Neue,Helvetica,sans-serif; font-size:48px; text-anchor:middle;\" transform=\"rotate(0, 1650.87, 1557.47)\" x=\"1650.87\" y=\"1557.47\">5.0</text>\n",
       "</g>\n",
       "<g clip-path=\"url(#clip0901)\">\n",
       "<text style=\"fill:#000000; fill-opacity:1; font-family:Arial,Helvetica Neue,Helvetica,sans-serif; font-size:48px; text-anchor:middle;\" transform=\"rotate(0, 2169.25, 1557.47)\" x=\"2169.25\" y=\"1557.47\">7.5</text>\n",
       "</g>\n",
       "<g clip-path=\"url(#clip0901)\">\n",
       "<text style=\"fill:#000000; fill-opacity:1; font-family:Arial,Helvetica Neue,Helvetica,sans-serif; font-size:48px; text-anchor:end;\" transform=\"rotate(0, 124.013, 1323.85)\" x=\"124.013\" y=\"1323.85\">0</text>\n",
       "</g>\n",
       "<g clip-path=\"url(#clip0901)\">\n",
       "<text style=\"fill:#000000; fill-opacity:1; font-family:Arial,Helvetica Neue,Helvetica,sans-serif; font-size:48px; text-anchor:end;\" transform=\"rotate(0, 124.013, 934.018)\" x=\"124.013\" y=\"934.018\">10</text>\n",
       "</g>\n",
       "<g clip-path=\"url(#clip0901)\">\n",
       "<text style=\"fill:#000000; fill-opacity:1; font-family:Arial,Helvetica Neue,Helvetica,sans-serif; font-size:48px; text-anchor:end;\" transform=\"rotate(0, 124.013, 544.187)\" x=\"124.013\" y=\"544.187\">20</text>\n",
       "</g>\n",
       "<g clip-path=\"url(#clip0901)\">\n",
       "<text style=\"fill:#000000; fill-opacity:1; font-family:Arial,Helvetica Neue,Helvetica,sans-serif; font-size:48px; text-anchor:end;\" transform=\"rotate(0, 124.013, 154.355)\" x=\"124.013\" y=\"154.355\">30</text>\n",
       "</g>\n",
       "<polyline clip-path=\"url(#clip0903)\" style=\"stroke:#009af9; stroke-width:4; stroke-opacity:1; fill:none\" points=\"\n",
       "  209.52,853.687 219.645,868.636 313.264,998.057 406.883,1111.59 463.144,1172.17 519.405,1227.01 566.974,1268.89 614.542,1306.68 666.214,1343.08 717.886,1374.63 \n",
       "  765.524,1399.43 813.161,1420.12 864.233,1437.72 915.305,1450.6 974.478,1459.61 1033.65,1462.26 1086.24,1459.29 1138.82,1451.31 1184.93,1440.18 1231.05,1425.2 \n",
       "  1281.32,1404.47 1331.6,1379.16 1382.17,1349.07 1432.74,1314.35 1488.66,1270.55 1544.57,1221.09 1597.78,1168.77 1650.98,1111.31 1761.62,975.388 1854.75,843.765 \n",
       "  1911.6,755.686 1968.45,661.745 2021.9,568.094 2075.34,469.264 2160.96,300.135 2246.58,117.712 2259.75,88.4582 \n",
       "  \"/>\n",
       "<polygon clip-path=\"url(#clip0901)\" points=\"\n",
       "1958.43,251.724 2249.26,251.724 2249.26,130.764 1958.43,130.764 \n",
       "  \" fill=\"#ffffff\" fill-rule=\"evenodd\" fill-opacity=\"1\"/>\n",
       "<polyline clip-path=\"url(#clip0901)\" style=\"stroke:#000000; stroke-width:4; stroke-opacity:1; fill:none\" points=\"\n",
       "  1958.43,251.724 2249.26,251.724 2249.26,130.764 1958.43,130.764 1958.43,251.724 \n",
       "  \"/>\n",
       "<polyline clip-path=\"url(#clip0901)\" style=\"stroke:#009af9; stroke-width:4; stroke-opacity:1; fill:none\" points=\"\n",
       "  1982.43,191.244 2126.43,191.244 \n",
       "  \"/>\n",
       "<g clip-path=\"url(#clip0901)\">\n",
       "<text style=\"fill:#000000; fill-opacity:1; font-family:Arial,Helvetica Neue,Helvetica,sans-serif; font-size:48px; text-anchor:start;\" transform=\"rotate(0, 2150.43, 208.744)\" x=\"2150.43\" y=\"208.744\">y1</text>\n",
       "</g>\n",
       "</svg>\n"
      ]
     },
     "execution_count": 13,
     "metadata": {},
     "output_type": "execute_result"
    }
   ],
   "source": [
    "plot(f, -2, 8)"
   ]
  },
  {
   "cell_type": "code",
   "execution_count": 15,
   "metadata": {},
   "outputs": [
    {
     "data": {
      "text/plain": [
       "gradient_descent (generic function with 1 method)"
      ]
     },
     "execution_count": 15,
     "metadata": {},
     "output_type": "execute_result"
    }
   ],
   "source": [
    "function gradient_descent(f, x_guess, number_of_iterations, α)\n",
    "    x_old = x_guess\n",
    "    x_new = x_old - α*df(f, x_old, 0.0001)\n",
    "    data = [(x_old,f(x_old)), (x_new, f(x_new))]\n",
    "    for i = 1:number_of_iterations\n",
    "        x_old, x_new = x_new, x_new - α*df(f, x_new, 0.0001)\n",
    "        push!(data, (x_new, f(x_new)))\n",
    "    end\n",
    "    \n",
    "    return data\n",
    "end\n"
   ]
  },
  {
   "cell_type": "code",
   "execution_count": 19,
   "metadata": {},
   "outputs": [
    {
     "data": {
      "text/plain": [
       "27-element Array{Tuple{Float64,Float64},1}:\n",
       " (350.0, 121100.0)                        \n",
       " (266.47998801781796, 69945.66406190513)  \n",
       " (203.00477890996262, 40398.921144642954) \n",
       " (154.7636199684348, 23332.72358586037)   \n",
       " (118.10033917427063, 13475.28875638068)  \n",
       " (90.23624577166629, 7781.635067877897)   \n",
       " (69.05953478599258, 4492.98120571375)    \n",
       " (52.965234437579056, 2593.455121277394)  \n",
       " (40.73356617191166, 1496.2891483938595)  \n",
       " (31.437498290506483, 862.5663056035721)  \n",
       " (24.372486700895024, 496.5281611817247)  \n",
       " (19.003077892716647, 285.10465782578956) \n",
       " (14.922327198473795, 162.9865402244156)  \n",
       " ⋮                                        \n",
       " (7.672563453076009, 28.177976129173615)  \n",
       " (6.31113622434043, 14.58589554482026)    \n",
       " (5.276451530504289, 6.7351346317438985)  \n",
       " (4.490091163184218, 2.200554000968131)   \n",
       " (3.892457284021944, -0.4186054281522873) \n",
       " (3.438255535855461, -1.93142101358112)   \n",
       " (3.093062207249808, -2.8052150110821774) \n",
       " (2.8307152775090216, -3.309912127713109) \n",
       " (2.631331610906429, -3.6014203970702936) \n",
       " (2.479800024288714, -3.7697919366925494) \n",
       " (2.36463601845891, -3.8670405740424334)  \n",
       " (2.2771113740287063, -3.9232092863839223)"
      ]
     },
     "execution_count": 19,
     "metadata": {},
     "output_type": "execute_result"
    }
   ],
   "source": [
    "D1 = gradient_descent(f, 350.0, 25, .12)"
   ]
  },
  {
   "cell_type": "code",
   "execution_count": 21,
   "metadata": {},
   "outputs": [
    {
     "data": {
      "image/svg+xml": [
       "<?xml version=\"1.0\" encoding=\"utf-8\"?>\n",
       "<svg xmlns=\"http://www.w3.org/2000/svg\" xmlns:xlink=\"http://www.w3.org/1999/xlink\" width=\"600\" height=\"400\" viewBox=\"0 0 2400 1600\">\n",
       "<defs>\n",
       "  <clipPath id=\"clip1700\">\n",
       "    <rect x=\"0\" y=\"0\" width=\"2000\" height=\"2000\"/>\n",
       "  </clipPath>\n",
       "</defs>\n",
       "<defs>\n",
       "  <clipPath id=\"clip1701\">\n",
       "    <rect x=\"0\" y=\"0\" width=\"2400\" height=\"1600\"/>\n",
       "  </clipPath>\n",
       "</defs>\n",
       "<polygon clip-path=\"url(#clip1701)\" points=\"\n",
       "0,1600 2400,1600 2400,0 0,0 \n",
       "  \" fill=\"#ffffff\" fill-rule=\"evenodd\" fill-opacity=\"1\"/>\n",
       "<defs>\n",
       "  <clipPath id=\"clip1702\">\n",
       "    <rect x=\"480\" y=\"0\" width=\"1681\" height=\"1600\"/>\n",
       "  </clipPath>\n",
       "</defs>\n",
       "<polygon clip-path=\"url(#clip1701)\" points=\"\n",
       "308.828,1503.47 2321.26,1503.47 2321.26,47.2441 308.828,47.2441 \n",
       "  \" fill=\"#ffffff\" fill-rule=\"evenodd\" fill-opacity=\"1\"/>\n",
       "<defs>\n",
       "  <clipPath id=\"clip1703\">\n",
       "    <rect x=\"308\" y=\"47\" width=\"2013\" height=\"1457\"/>\n",
       "  </clipPath>\n",
       "</defs>\n",
       "<polyline clip-path=\"url(#clip1703)\" style=\"stroke:#000000; stroke-width:2; stroke-opacity:0.1; fill:none\" points=\"\n",
       "  347.06,1503.47 347.06,47.2441 \n",
       "  \"/>\n",
       "<polyline clip-path=\"url(#clip1703)\" style=\"stroke:#000000; stroke-width:2; stroke-opacity:0.1; fill:none\" points=\"\n",
       "  773.114,1503.47 773.114,47.2441 \n",
       "  \"/>\n",
       "<polyline clip-path=\"url(#clip1703)\" style=\"stroke:#000000; stroke-width:2; stroke-opacity:0.1; fill:none\" points=\"\n",
       "  1199.17,1503.47 1199.17,47.2441 \n",
       "  \"/>\n",
       "<polyline clip-path=\"url(#clip1703)\" style=\"stroke:#000000; stroke-width:2; stroke-opacity:0.1; fill:none\" points=\"\n",
       "  1625.22,1503.47 1625.22,47.2441 \n",
       "  \"/>\n",
       "<polyline clip-path=\"url(#clip1703)\" style=\"stroke:#000000; stroke-width:2; stroke-opacity:0.1; fill:none\" points=\"\n",
       "  2051.28,1503.47 2051.28,47.2441 \n",
       "  \"/>\n",
       "<polyline clip-path=\"url(#clip1703)\" style=\"stroke:#000000; stroke-width:2; stroke-opacity:0.1; fill:none\" points=\"\n",
       "  308.828,1462.22 2321.26,1462.22 \n",
       "  \"/>\n",
       "<polyline clip-path=\"url(#clip1703)\" style=\"stroke:#000000; stroke-width:2; stroke-opacity:0.1; fill:none\" points=\"\n",
       "  308.828,1178.62 2321.26,1178.62 \n",
       "  \"/>\n",
       "<polyline clip-path=\"url(#clip1703)\" style=\"stroke:#000000; stroke-width:2; stroke-opacity:0.1; fill:none\" points=\"\n",
       "  308.828,895.016 2321.26,895.016 \n",
       "  \"/>\n",
       "<polyline clip-path=\"url(#clip1703)\" style=\"stroke:#000000; stroke-width:2; stroke-opacity:0.1; fill:none\" points=\"\n",
       "  308.828,611.416 2321.26,611.416 \n",
       "  \"/>\n",
       "<polyline clip-path=\"url(#clip1703)\" style=\"stroke:#000000; stroke-width:2; stroke-opacity:0.1; fill:none\" points=\"\n",
       "  308.828,327.816 2321.26,327.816 \n",
       "  \"/>\n",
       "<polyline clip-path=\"url(#clip1701)\" style=\"stroke:#000000; stroke-width:4; stroke-opacity:1; fill:none\" points=\"\n",
       "  308.828,1503.47 2321.26,1503.47 \n",
       "  \"/>\n",
       "<polyline clip-path=\"url(#clip1701)\" style=\"stroke:#000000; stroke-width:4; stroke-opacity:1; fill:none\" points=\"\n",
       "  308.828,1503.47 308.828,47.2441 \n",
       "  \"/>\n",
       "<polyline clip-path=\"url(#clip1701)\" style=\"stroke:#000000; stroke-width:4; stroke-opacity:1; fill:none\" points=\"\n",
       "  347.06,1503.47 347.06,1481.63 \n",
       "  \"/>\n",
       "<polyline clip-path=\"url(#clip1701)\" style=\"stroke:#000000; stroke-width:4; stroke-opacity:1; fill:none\" points=\"\n",
       "  773.114,1503.47 773.114,1481.63 \n",
       "  \"/>\n",
       "<polyline clip-path=\"url(#clip1701)\" style=\"stroke:#000000; stroke-width:4; stroke-opacity:1; fill:none\" points=\"\n",
       "  1199.17,1503.47 1199.17,1481.63 \n",
       "  \"/>\n",
       "<polyline clip-path=\"url(#clip1701)\" style=\"stroke:#000000; stroke-width:4; stroke-opacity:1; fill:none\" points=\"\n",
       "  1625.22,1503.47 1625.22,1481.63 \n",
       "  \"/>\n",
       "<polyline clip-path=\"url(#clip1701)\" style=\"stroke:#000000; stroke-width:4; stroke-opacity:1; fill:none\" points=\"\n",
       "  2051.28,1503.47 2051.28,1481.63 \n",
       "  \"/>\n",
       "<polyline clip-path=\"url(#clip1701)\" style=\"stroke:#000000; stroke-width:4; stroke-opacity:1; fill:none\" points=\"\n",
       "  308.828,1462.22 339.014,1462.22 \n",
       "  \"/>\n",
       "<polyline clip-path=\"url(#clip1701)\" style=\"stroke:#000000; stroke-width:4; stroke-opacity:1; fill:none\" points=\"\n",
       "  308.828,1178.62 339.014,1178.62 \n",
       "  \"/>\n",
       "<polyline clip-path=\"url(#clip1701)\" style=\"stroke:#000000; stroke-width:4; stroke-opacity:1; fill:none\" points=\"\n",
       "  308.828,895.016 339.014,895.016 \n",
       "  \"/>\n",
       "<polyline clip-path=\"url(#clip1701)\" style=\"stroke:#000000; stroke-width:4; stroke-opacity:1; fill:none\" points=\"\n",
       "  308.828,611.416 339.014,611.416 \n",
       "  \"/>\n",
       "<polyline clip-path=\"url(#clip1701)\" style=\"stroke:#000000; stroke-width:4; stroke-opacity:1; fill:none\" points=\"\n",
       "  308.828,327.816 339.014,327.816 \n",
       "  \"/>\n",
       "<g clip-path=\"url(#clip1701)\">\n",
       "<text style=\"fill:#000000; fill-opacity:1; font-family:Arial,Helvetica Neue,Helvetica,sans-serif; font-size:48px; text-anchor:middle;\" transform=\"rotate(0, 347.06, 1557.47)\" x=\"347.06\" y=\"1557.47\">-100</text>\n",
       "</g>\n",
       "<g clip-path=\"url(#clip1701)\">\n",
       "<text style=\"fill:#000000; fill-opacity:1; font-family:Arial,Helvetica Neue,Helvetica,sans-serif; font-size:48px; text-anchor:middle;\" transform=\"rotate(0, 773.114, 1557.47)\" x=\"773.114\" y=\"1557.47\">0</text>\n",
       "</g>\n",
       "<g clip-path=\"url(#clip1701)\">\n",
       "<text style=\"fill:#000000; fill-opacity:1; font-family:Arial,Helvetica Neue,Helvetica,sans-serif; font-size:48px; text-anchor:middle;\" transform=\"rotate(0, 1199.17, 1557.47)\" x=\"1199.17\" y=\"1557.47\">100</text>\n",
       "</g>\n",
       "<g clip-path=\"url(#clip1701)\">\n",
       "<text style=\"fill:#000000; fill-opacity:1; font-family:Arial,Helvetica Neue,Helvetica,sans-serif; font-size:48px; text-anchor:middle;\" transform=\"rotate(0, 1625.22, 1557.47)\" x=\"1625.22\" y=\"1557.47\">200</text>\n",
       "</g>\n",
       "<g clip-path=\"url(#clip1701)\">\n",
       "<text style=\"fill:#000000; fill-opacity:1; font-family:Arial,Helvetica Neue,Helvetica,sans-serif; font-size:48px; text-anchor:middle;\" transform=\"rotate(0, 2051.28, 1557.47)\" x=\"2051.28\" y=\"1557.47\">300</text>\n",
       "</g>\n",
       "<g clip-path=\"url(#clip1701)\">\n",
       "<text style=\"fill:#000000; fill-opacity:1; font-family:Arial,Helvetica Neue,Helvetica,sans-serif; font-size:48px; text-anchor:end;\" transform=\"rotate(0, 284.828, 1479.72)\" x=\"284.828\" y=\"1479.72\">0</text>\n",
       "</g>\n",
       "<g clip-path=\"url(#clip1701)\">\n",
       "<text style=\"fill:#000000; fill-opacity:1; font-family:Arial,Helvetica Neue,Helvetica,sans-serif; font-size:48px; text-anchor:start;\" transform=\"rotate(0, 114.543, 1202.34)\" x=\"114.543\" y=\"1202.34\">2.5×10</text>\n",
       "</g>\n",
       "<g clip-path=\"url(#clip1701)\">\n",
       "<text style=\"fill:#000000; fill-opacity:1; font-family:Arial,Helvetica Neue,Helvetica,sans-serif; font-size:38px; text-anchor:start;\" transform=\"rotate(0, 263.083, 1174.93)\" x=\"263.083\" y=\"1174.93\">4</text>\n",
       "</g>\n",
       "<g clip-path=\"url(#clip1701)\">\n",
       "<text style=\"fill:#000000; fill-opacity:1; font-family:Arial,Helvetica Neue,Helvetica,sans-serif; font-size:48px; text-anchor:start;\" transform=\"rotate(0, 114.543, 918.744)\" x=\"114.543\" y=\"918.744\">5.0×10</text>\n",
       "</g>\n",
       "<g clip-path=\"url(#clip1701)\">\n",
       "<text style=\"fill:#000000; fill-opacity:1; font-family:Arial,Helvetica Neue,Helvetica,sans-serif; font-size:38px; text-anchor:start;\" transform=\"rotate(0, 263.083, 891.334)\" x=\"263.083\" y=\"891.334\">4</text>\n",
       "</g>\n",
       "<g clip-path=\"url(#clip1701)\">\n",
       "<text style=\"fill:#000000; fill-opacity:1; font-family:Arial,Helvetica Neue,Helvetica,sans-serif; font-size:48px; text-anchor:start;\" transform=\"rotate(0, 114.543, 635.144)\" x=\"114.543\" y=\"635.144\">7.5×10</text>\n",
       "</g>\n",
       "<g clip-path=\"url(#clip1701)\">\n",
       "<text style=\"fill:#000000; fill-opacity:1; font-family:Arial,Helvetica Neue,Helvetica,sans-serif; font-size:38px; text-anchor:start;\" transform=\"rotate(0, 263.083, 607.734)\" x=\"263.083\" y=\"607.734\">4</text>\n",
       "</g>\n",
       "<g clip-path=\"url(#clip1701)\">\n",
       "<text style=\"fill:#000000; fill-opacity:1; font-family:Arial,Helvetica Neue,Helvetica,sans-serif; font-size:48px; text-anchor:start;\" transform=\"rotate(0, 114.543, 351.544)\" x=\"114.543\" y=\"351.544\">1.0×10</text>\n",
       "</g>\n",
       "<g clip-path=\"url(#clip1701)\">\n",
       "<text style=\"fill:#000000; fill-opacity:1; font-family:Arial,Helvetica Neue,Helvetica,sans-serif; font-size:38px; text-anchor:start;\" transform=\"rotate(0, 263.083, 324.134)\" x=\"263.083\" y=\"324.134\">5</text>\n",
       "</g>\n",
       "<polyline clip-path=\"url(#clip1703)\" style=\"stroke:#009af9; stroke-width:4; stroke-opacity:1; fill:none\" points=\"\n",
       "  365.783,1354.19 538.909,1425.44 642.95,1450.24 730.915,1460.65 826.471,1461.01 914.564,1451.22 1009.01,1429.95 1118.43,1391.37 1215.68,1344.53 1300.95,1293.72 \n",
       "  1393.92,1227.98 1487.45,1150.94 1590.85,1053.04 1689.23,947.48 1791.53,824.895 1877.64,711.566 1982.78,560.639 2081.61,406.165 2239.94,133.242 \n",
       "  \"/>\n",
       "<circle clip-path=\"url(#clip1703)\" style=\"fill:#000000; stroke:none; fill-opacity:1\" cx=\"2264.3\" cy=\"88.4582\" r=\"18\"/>\n",
       "<circle clip-path=\"url(#clip1703)\" style=\"fill:#e26f46; stroke:none; fill-opacity:1\" cx=\"2264.3\" cy=\"88.4582\" r=\"14\"/>\n",
       "<circle clip-path=\"url(#clip1703)\" style=\"fill:#000000; stroke:none; fill-opacity:1\" cx=\"1908.46\" cy=\"668.753\" r=\"18\"/>\n",
       "<circle clip-path=\"url(#clip1703)\" style=\"fill:#e26f46; stroke:none; fill-opacity:1\" cx=\"1908.46\" cy=\"668.753\" r=\"14\"/>\n",
       "<circle clip-path=\"url(#clip1703)\" style=\"fill:#000000; stroke:none; fill-opacity:1\" cx=\"1638.02\" cy=\"1003.93\" r=\"18\"/>\n",
       "<circle clip-path=\"url(#clip1703)\" style=\"fill:#e26f46; stroke:none; fill-opacity:1\" cx=\"1638.02\" cy=\"1003.93\" r=\"14\"/>\n",
       "<circle clip-path=\"url(#clip1703)\" style=\"fill:#000000; stroke:none; fill-opacity:1\" cx=\"1432.49\" cy=\"1197.53\" r=\"18\"/>\n",
       "<circle clip-path=\"url(#clip1703)\" style=\"fill:#e26f46; stroke:none; fill-opacity:1\" cx=\"1432.49\" cy=\"1197.53\" r=\"14\"/>\n",
       "<circle clip-path=\"url(#clip1703)\" style=\"fill:#000000; stroke:none; fill-opacity:1\" cx=\"1276.29\" cy=\"1309.35\" r=\"18\"/>\n",
       "<circle clip-path=\"url(#clip1703)\" style=\"fill:#e26f46; stroke:none; fill-opacity:1\" cx=\"1276.29\" cy=\"1309.35\" r=\"14\"/>\n",
       "<circle clip-path=\"url(#clip1703)\" style=\"fill:#000000; stroke:none; fill-opacity:1\" cx=\"1157.57\" cy=\"1373.94\" r=\"18\"/>\n",
       "<circle clip-path=\"url(#clip1703)\" style=\"fill:#e26f46; stroke:none; fill-opacity:1\" cx=\"1157.57\" cy=\"1373.94\" r=\"14\"/>\n",
       "<circle clip-path=\"url(#clip1703)\" style=\"fill:#000000; stroke:none; fill-opacity:1\" cx=\"1067.35\" cy=\"1411.25\" r=\"18\"/>\n",
       "<circle clip-path=\"url(#clip1703)\" style=\"fill:#e26f46; stroke:none; fill-opacity:1\" cx=\"1067.35\" cy=\"1411.25\" r=\"14\"/>\n",
       "<circle clip-path=\"url(#clip1703)\" style=\"fill:#000000; stroke:none; fill-opacity:1\" cx=\"998.775\" cy=\"1432.8\" r=\"18\"/>\n",
       "<circle clip-path=\"url(#clip1703)\" style=\"fill:#e26f46; stroke:none; fill-opacity:1\" cx=\"998.775\" cy=\"1432.8\" r=\"14\"/>\n",
       "<circle clip-path=\"url(#clip1703)\" style=\"fill:#000000; stroke:none; fill-opacity:1\" cx=\"946.661\" cy=\"1445.24\" r=\"18\"/>\n",
       "<circle clip-path=\"url(#clip1703)\" style=\"fill:#e26f46; stroke:none; fill-opacity:1\" cx=\"946.661\" cy=\"1445.24\" r=\"14\"/>\n",
       "<circle clip-path=\"url(#clip1703)\" style=\"fill:#000000; stroke:none; fill-opacity:1\" cx=\"907.055\" cy=\"1452.43\" r=\"18\"/>\n",
       "<circle clip-path=\"url(#clip1703)\" style=\"fill:#e26f46; stroke:none; fill-opacity:1\" cx=\"907.055\" cy=\"1452.43\" r=\"14\"/>\n",
       "<circle clip-path=\"url(#clip1703)\" style=\"fill:#000000; stroke:none; fill-opacity:1\" cx=\"876.954\" cy=\"1456.58\" r=\"18\"/>\n",
       "<circle clip-path=\"url(#clip1703)\" style=\"fill:#e26f46; stroke:none; fill-opacity:1\" cx=\"876.954\" cy=\"1456.58\" r=\"14\"/>\n",
       "<circle clip-path=\"url(#clip1703)\" style=\"fill:#000000; stroke:none; fill-opacity:1\" cx=\"854.078\" cy=\"1458.98\" r=\"18\"/>\n",
       "<circle clip-path=\"url(#clip1703)\" style=\"fill:#e26f46; stroke:none; fill-opacity:1\" cx=\"854.078\" cy=\"1458.98\" r=\"14\"/>\n",
       "<circle clip-path=\"url(#clip1703)\" style=\"fill:#000000; stroke:none; fill-opacity:1\" cx=\"836.691\" cy=\"1460.37\" r=\"18\"/>\n",
       "<circle clip-path=\"url(#clip1703)\" style=\"fill:#e26f46; stroke:none; fill-opacity:1\" cx=\"836.691\" cy=\"1460.37\" r=\"14\"/>\n",
       "<circle clip-path=\"url(#clip1703)\" style=\"fill:#000000; stroke:none; fill-opacity:1\" cx=\"823.478\" cy=\"1461.17\" r=\"18\"/>\n",
       "<circle clip-path=\"url(#clip1703)\" style=\"fill:#e26f46; stroke:none; fill-opacity:1\" cx=\"823.478\" cy=\"1461.17\" r=\"14\"/>\n",
       "<circle clip-path=\"url(#clip1703)\" style=\"fill:#000000; stroke:none; fill-opacity:1\" cx=\"813.435\" cy=\"1461.63\" r=\"18\"/>\n",
       "<circle clip-path=\"url(#clip1703)\" style=\"fill:#e26f46; stroke:none; fill-opacity:1\" cx=\"813.435\" cy=\"1461.63\" r=\"14\"/>\n",
       "<circle clip-path=\"url(#clip1703)\" style=\"fill:#000000; stroke:none; fill-opacity:1\" cx=\"805.803\" cy=\"1461.9\" r=\"18\"/>\n",
       "<circle clip-path=\"url(#clip1703)\" style=\"fill:#e26f46; stroke:none; fill-opacity:1\" cx=\"805.803\" cy=\"1461.9\" r=\"14\"/>\n",
       "<circle clip-path=\"url(#clip1703)\" style=\"fill:#000000; stroke:none; fill-opacity:1\" cx=\"800.003\" cy=\"1462.05\" r=\"18\"/>\n",
       "<circle clip-path=\"url(#clip1703)\" style=\"fill:#e26f46; stroke:none; fill-opacity:1\" cx=\"800.003\" cy=\"1462.05\" r=\"14\"/>\n",
       "<circle clip-path=\"url(#clip1703)\" style=\"fill:#000000; stroke:none; fill-opacity:1\" cx=\"795.595\" cy=\"1462.14\" r=\"18\"/>\n",
       "<circle clip-path=\"url(#clip1703)\" style=\"fill:#e26f46; stroke:none; fill-opacity:1\" cx=\"795.595\" cy=\"1462.14\" r=\"14\"/>\n",
       "<circle clip-path=\"url(#clip1703)\" style=\"fill:#000000; stroke:none; fill-opacity:1\" cx=\"792.244\" cy=\"1462.19\" r=\"18\"/>\n",
       "<circle clip-path=\"url(#clip1703)\" style=\"fill:#e26f46; stroke:none; fill-opacity:1\" cx=\"792.244\" cy=\"1462.19\" r=\"14\"/>\n",
       "<circle clip-path=\"url(#clip1703)\" style=\"fill:#000000; stroke:none; fill-opacity:1\" cx=\"789.698\" cy=\"1462.22\" r=\"18\"/>\n",
       "<circle clip-path=\"url(#clip1703)\" style=\"fill:#e26f46; stroke:none; fill-opacity:1\" cx=\"789.698\" cy=\"1462.22\" r=\"14\"/>\n",
       "<circle clip-path=\"url(#clip1703)\" style=\"fill:#000000; stroke:none; fill-opacity:1\" cx=\"787.763\" cy=\"1462.24\" r=\"18\"/>\n",
       "<circle clip-path=\"url(#clip1703)\" style=\"fill:#e26f46; stroke:none; fill-opacity:1\" cx=\"787.763\" cy=\"1462.24\" r=\"14\"/>\n",
       "<circle clip-path=\"url(#clip1703)\" style=\"fill:#000000; stroke:none; fill-opacity:1\" cx=\"786.292\" cy=\"1462.25\" r=\"18\"/>\n",
       "<circle clip-path=\"url(#clip1703)\" style=\"fill:#e26f46; stroke:none; fill-opacity:1\" cx=\"786.292\" cy=\"1462.25\" r=\"14\"/>\n",
       "<circle clip-path=\"url(#clip1703)\" style=\"fill:#000000; stroke:none; fill-opacity:1\" cx=\"785.174\" cy=\"1462.25\" r=\"18\"/>\n",
       "<circle clip-path=\"url(#clip1703)\" style=\"fill:#e26f46; stroke:none; fill-opacity:1\" cx=\"785.174\" cy=\"1462.25\" r=\"14\"/>\n",
       "<circle clip-path=\"url(#clip1703)\" style=\"fill:#000000; stroke:none; fill-opacity:1\" cx=\"784.325\" cy=\"1462.26\" r=\"18\"/>\n",
       "<circle clip-path=\"url(#clip1703)\" style=\"fill:#e26f46; stroke:none; fill-opacity:1\" cx=\"784.325\" cy=\"1462.26\" r=\"14\"/>\n",
       "<circle clip-path=\"url(#clip1703)\" style=\"fill:#000000; stroke:none; fill-opacity:1\" cx=\"783.679\" cy=\"1462.26\" r=\"18\"/>\n",
       "<circle clip-path=\"url(#clip1703)\" style=\"fill:#e26f46; stroke:none; fill-opacity:1\" cx=\"783.679\" cy=\"1462.26\" r=\"14\"/>\n",
       "<circle clip-path=\"url(#clip1703)\" style=\"fill:#000000; stroke:none; fill-opacity:1\" cx=\"783.189\" cy=\"1462.26\" r=\"18\"/>\n",
       "<circle clip-path=\"url(#clip1703)\" style=\"fill:#e26f46; stroke:none; fill-opacity:1\" cx=\"783.189\" cy=\"1462.26\" r=\"14\"/>\n",
       "<circle clip-path=\"url(#clip1703)\" style=\"fill:#000000; stroke:none; fill-opacity:1\" cx=\"782.816\" cy=\"1462.26\" r=\"18\"/>\n",
       "<circle clip-path=\"url(#clip1703)\" style=\"fill:#e26f46; stroke:none; fill-opacity:1\" cx=\"782.816\" cy=\"1462.26\" r=\"14\"/>\n",
       "<polygon clip-path=\"url(#clip1701)\" points=\"\n",
       "1958.43,312.204 2249.26,312.204 2249.26,130.764 1958.43,130.764 \n",
       "  \" fill=\"#ffffff\" fill-rule=\"evenodd\" fill-opacity=\"1\"/>\n",
       "<polyline clip-path=\"url(#clip1701)\" style=\"stroke:#000000; stroke-width:4; stroke-opacity:1; fill:none\" points=\"\n",
       "  1958.43,312.204 2249.26,312.204 2249.26,130.764 1958.43,130.764 1958.43,312.204 \n",
       "  \"/>\n",
       "<polyline clip-path=\"url(#clip1701)\" style=\"stroke:#009af9; stroke-width:4; stroke-opacity:1; fill:none\" points=\"\n",
       "  1982.43,191.244 2126.43,191.244 \n",
       "  \"/>\n",
       "<g clip-path=\"url(#clip1701)\">\n",
       "<text style=\"fill:#000000; fill-opacity:1; font-family:Arial,Helvetica Neue,Helvetica,sans-serif; font-size:48px; text-anchor:start;\" transform=\"rotate(0, 2150.43, 208.744)\" x=\"2150.43\" y=\"208.744\">y1</text>\n",
       "</g>\n",
       "<circle clip-path=\"url(#clip1701)\" style=\"fill:#000000; stroke:none; fill-opacity:1\" cx=\"2066.43\" cy=\"251.724\" r=\"25\"/>\n",
       "<circle clip-path=\"url(#clip1701)\" style=\"fill:#e26f46; stroke:none; fill-opacity:1\" cx=\"2066.43\" cy=\"251.724\" r=\"21\"/>\n",
       "<g clip-path=\"url(#clip1701)\">\n",
       "<text style=\"fill:#000000; fill-opacity:1; font-family:Arial,Helvetica Neue,Helvetica,sans-serif; font-size:48px; text-anchor:start;\" transform=\"rotate(0, 2150.43, 269.224)\" x=\"2150.43\" y=\"269.224\">y2</text>\n",
       "</g>\n",
       "</svg>\n"
      ]
     },
     "execution_count": 21,
     "metadata": {},
     "output_type": "execute_result"
    }
   ],
   "source": [
    "plot(f, -100, 350)\n",
    "scatter!(D1)"
   ]
  },
  {
   "cell_type": "code",
   "execution_count": 25,
   "metadata": {},
   "outputs": [
    {
     "data": {
      "text/plain": [
       "f (generic function with 2 methods)"
      ]
     },
     "execution_count": 25,
     "metadata": {},
     "output_type": "execute_result"
    }
   ],
   "source": [
    "f(x,y) = (x-2)^4 + (x - 3*y^2)^2"
   ]
  },
  {
   "cell_type": "code",
   "execution_count": 26,
   "metadata": {},
   "outputs": [
    {
     "data": {
      "text/plain": [
       "122"
      ]
     },
     "execution_count": 26,
     "metadata": {},
     "output_type": "execute_result"
    }
   ],
   "source": [
    "f(1,2)"
   ]
  },
  {
   "cell_type": "code",
   "execution_count": 27,
   "metadata": {},
   "outputs": [
    {
     "data": {
      "text/plain": [
       "grad_f (generic function with 1 method)"
      ]
     },
     "execution_count": 27,
     "metadata": {},
     "output_type": "execute_result"
    }
   ],
   "source": [
    "grad_f(f, x, y, ϵ) = [(f(x+ϵ,y) - f(x,y))/ϵ, (f(x, y+ϵ)-f(x,y))/ϵ]"
   ]
  },
  {
   "cell_type": "code",
   "execution_count": 28,
   "metadata": {},
   "outputs": [
    {
     "data": {
      "text/plain": [
       "2-element Array{Float64,1}:\n",
       " -7.999930000401888\n",
       " 24.000480003749654"
      ]
     },
     "execution_count": 28,
     "metadata": {},
     "output_type": "execute_result"
    }
   ],
   "source": [
    "grad_f(f, 1.0, 1.0, 0.00001)"
   ]
  },
  {
   "cell_type": "code",
   "execution_count": 29,
   "metadata": {},
   "outputs": [
    {
     "data": {
      "text/plain": [
       "2-element Array{Float64,1}:\n",
       "  1.9599916000482267\n",
       " -1.8800576004499585"
      ]
     },
     "execution_count": 29,
     "metadata": {},
     "output_type": "execute_result"
    }
   ],
   "source": [
    "x0 = [1.0, 1.0]\n",
    "x1 = x0 - .12*grad_f(f, x0[1], x0[2], 0.00001)"
   ]
  },
  {
   "cell_type": "code",
   "execution_count": 30,
   "metadata": {},
   "outputs": [
    {
     "data": {
      "text/plain": [
       "2-element Array{Float64,1}:\n",
       "  4.034547082116035\n",
       " 21.52109719558359 "
      ]
     },
     "execution_count": 30,
     "metadata": {},
     "output_type": "execute_result"
    }
   ],
   "source": [
    "x2 = x1 - .12*grad_f(f, x1[1], x1[2], 0.00001)"
   ]
  },
  {
   "cell_type": "code",
   "execution_count": 31,
   "metadata": {},
   "outputs": [
    {
     "data": {
      "text/plain": [
       "2-element Array{Float64,1}:\n",
       "    332.49726513676825\n",
       " -42913.769039178944  "
      ]
     },
     "execution_count": 31,
     "metadata": {},
     "output_type": "execute_result"
    }
   ],
   "source": [
    "x3 = x2 - .12*grad_f(f, x2[1], x2[2], 0.00001)"
   ]
  },
  {
   "cell_type": "code",
   "execution_count": 32,
   "metadata": {},
   "outputs": [
    {
     "data": {
      "text/plain": [
       "2-element Array{Float64,1}:\n",
       " 1.376256332497265e9  \n",
       " 3.4140812078908625e14"
      ]
     },
     "execution_count": 32,
     "metadata": {},
     "output_type": "execute_result"
    }
   ],
   "source": [
    "x4 = x3 - .12*grad_f(f, x3[1], x3[2], 0.00001)"
   ]
  },
  {
   "cell_type": "code",
   "execution_count": 33,
   "metadata": {},
   "outputs": [
    {
     "data": {
      "text/plain": [
       "2-element Array{Float64,1}:\n",
       " 1.376256332497265e9  \n",
       " 3.4140812078908625e14"
      ]
     },
     "execution_count": 33,
     "metadata": {},
     "output_type": "execute_result"
    }
   ],
   "source": [
    "x5 = x4 - .12*grad_f(f, x4[1], x4[2], 0.00001)"
   ]
  },
  {
   "cell_type": "code",
   "execution_count": 34,
   "metadata": {},
   "outputs": [
    {
     "data": {
      "text/plain": [
       "2-element Array{Float64,1}:\n",
       " 0.0\n",
       " 0.0"
      ]
     },
     "execution_count": 34,
     "metadata": {},
     "output_type": "execute_result"
    }
   ],
   "source": [
    "grad_f(f, x4[1], x4[2], 0.00001)"
   ]
  },
  {
   "cell_type": "code",
   "execution_count": null,
   "metadata": {},
   "outputs": [],
   "source": []
  }
 ],
 "metadata": {
  "kernelspec": {
   "display_name": "Julia 1.0.3",
   "language": "julia",
   "name": "julia-1.0"
  },
  "language_info": {
   "file_extension": ".jl",
   "mimetype": "application/julia",
   "name": "julia",
   "version": "1.0.3"
  }
 },
 "nbformat": 4,
 "nbformat_minor": 2
}
