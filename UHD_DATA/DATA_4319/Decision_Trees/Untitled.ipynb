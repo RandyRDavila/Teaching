{
 "cells": [
  {
   "cell_type": "code",
   "execution_count": 1,
   "metadata": {},
   "outputs": [],
   "source": [
    "using Plots\n",
    "theme(:dark)"
   ]
  },
  {
   "cell_type": "code",
   "execution_count": 2,
   "metadata": {},
   "outputs": [],
   "source": [
    "X = [(1.0, 2.0), (2.0, 1.0), (2.0, 4.0), (3.0, 1.0), (3.0, 2.0), (3.0, 3.0), \n",
    "        (4.0, 2.0), (4.0, 3.0), (4.0, 5.0), (5.0, 3.0), (6.0, 1.0), (6.0, 3.0),(6.0, 4.0)]\n",
    "y = [1, 1, 1, -1, -1, 1, -1, 1, 1, -1, -1, -1, 1];"
   ]
  },
  {
   "cell_type": "code",
   "execution_count": 3,
   "metadata": {},
   "outputs": [
    {
     "data": {
      "image/svg+xml": [
       "<?xml version=\"1.0\" encoding=\"utf-8\"?>\n",
       "<svg xmlns=\"http://www.w3.org/2000/svg\" xmlns:xlink=\"http://www.w3.org/1999/xlink\" width=\"600\" height=\"400\" viewBox=\"0 0 2400 1600\">\n",
       "<defs>\n",
       "  <clipPath id=\"clip2000\">\n",
       "    <rect x=\"0\" y=\"0\" width=\"2400\" height=\"1600\"/>\n",
       "  </clipPath>\n",
       "</defs>\n",
       "<path clip-path=\"url(#clip2000)\" d=\"\n",
       "M0 1600 L2400 1600 L2400 0 L0 0  Z\n",
       "  \" fill=\"#363d46\" fill-rule=\"evenodd\" fill-opacity=\"1\"/>\n",
       "<defs>\n",
       "  <clipPath id=\"clip2001\">\n",
       "    <rect x=\"480\" y=\"0\" width=\"1681\" height=\"1600\"/>\n",
       "  </clipPath>\n",
       "</defs>\n",
       "<path clip-path=\"url(#clip2000)\" d=\"\n",
       "M113.754 1487.47 L2352.76 1487.47 L2352.76 47.2441 L113.754 47.2441  Z\n",
       "  \" fill=\"#30343b\" fill-rule=\"evenodd\" fill-opacity=\"1\"/>\n",
       "<defs>\n",
       "  <clipPath id=\"clip2002\">\n",
       "    <rect x=\"113\" y=\"47\" width=\"2240\" height=\"1441\"/>\n",
       "  </clipPath>\n",
       "</defs>\n",
       "<polyline clip-path=\"url(#clip2002)\" style=\"stroke:#adb2b7; stroke-width:2; stroke-opacity:0.1; fill:none\" points=\"\n",
       "  113.754,1487.47 113.754,47.2441 \n",
       "  \"/>\n",
       "<polyline clip-path=\"url(#clip2002)\" style=\"stroke:#adb2b7; stroke-width:2; stroke-opacity:0.1; fill:none\" points=\"\n",
       "  433.612,1487.47 433.612,47.2441 \n",
       "  \"/>\n",
       "<polyline clip-path=\"url(#clip2002)\" style=\"stroke:#adb2b7; stroke-width:2; stroke-opacity:0.1; fill:none\" points=\"\n",
       "  753.469,1487.47 753.469,47.2441 \n",
       "  \"/>\n",
       "<polyline clip-path=\"url(#clip2002)\" style=\"stroke:#adb2b7; stroke-width:2; stroke-opacity:0.1; fill:none\" points=\"\n",
       "  1073.33,1487.47 1073.33,47.2441 \n",
       "  \"/>\n",
       "<polyline clip-path=\"url(#clip2002)\" style=\"stroke:#adb2b7; stroke-width:2; stroke-opacity:0.1; fill:none\" points=\"\n",
       "  1393.18,1487.47 1393.18,47.2441 \n",
       "  \"/>\n",
       "<polyline clip-path=\"url(#clip2002)\" style=\"stroke:#adb2b7; stroke-width:2; stroke-opacity:0.1; fill:none\" points=\"\n",
       "  1713.04,1487.47 1713.04,47.2441 \n",
       "  \"/>\n",
       "<polyline clip-path=\"url(#clip2002)\" style=\"stroke:#adb2b7; stroke-width:2; stroke-opacity:0.1; fill:none\" points=\"\n",
       "  2032.9,1487.47 2032.9,47.2441 \n",
       "  \"/>\n",
       "<polyline clip-path=\"url(#clip2002)\" style=\"stroke:#adb2b7; stroke-width:2; stroke-opacity:0.1; fill:none\" points=\"\n",
       "  2352.76,1487.47 2352.76,47.2441 \n",
       "  \"/>\n",
       "<polyline clip-path=\"url(#clip2002)\" style=\"stroke:#adb2b7; stroke-width:2; stroke-opacity:0.1; fill:none\" points=\"\n",
       "  113.754,1487.47 2352.76,1487.47 \n",
       "  \"/>\n",
       "<polyline clip-path=\"url(#clip2002)\" style=\"stroke:#adb2b7; stroke-width:2; stroke-opacity:0.1; fill:none\" points=\"\n",
       "  113.754,1247.44 2352.76,1247.44 \n",
       "  \"/>\n",
       "<polyline clip-path=\"url(#clip2002)\" style=\"stroke:#adb2b7; stroke-width:2; stroke-opacity:0.1; fill:none\" points=\"\n",
       "  113.754,1007.4 2352.76,1007.4 \n",
       "  \"/>\n",
       "<polyline clip-path=\"url(#clip2002)\" style=\"stroke:#adb2b7; stroke-width:2; stroke-opacity:0.1; fill:none\" points=\"\n",
       "  113.754,767.359 2352.76,767.359 \n",
       "  \"/>\n",
       "<polyline clip-path=\"url(#clip2002)\" style=\"stroke:#adb2b7; stroke-width:2; stroke-opacity:0.1; fill:none\" points=\"\n",
       "  113.754,527.321 2352.76,527.321 \n",
       "  \"/>\n",
       "<polyline clip-path=\"url(#clip2002)\" style=\"stroke:#adb2b7; stroke-width:2; stroke-opacity:0.1; fill:none\" points=\"\n",
       "  113.754,287.283 2352.76,287.283 \n",
       "  \"/>\n",
       "<polyline clip-path=\"url(#clip2002)\" style=\"stroke:#adb2b7; stroke-width:2; stroke-opacity:0.1; fill:none\" points=\"\n",
       "  113.754,47.2441 2352.76,47.2441 \n",
       "  \"/>\n",
       "<polyline clip-path=\"url(#clip2000)\" style=\"stroke:#adb2b7; stroke-width:4; stroke-opacity:1; fill:none\" points=\"\n",
       "  113.754,1487.47 2352.76,1487.47 \n",
       "  \"/>\n",
       "<polyline clip-path=\"url(#clip2000)\" style=\"stroke:#adb2b7; stroke-width:4; stroke-opacity:1; fill:none\" points=\"\n",
       "  113.754,1487.47 113.754,47.2441 \n",
       "  \"/>\n",
       "<polyline clip-path=\"url(#clip2000)\" style=\"stroke:#adb2b7; stroke-width:4; stroke-opacity:1; fill:none\" points=\"\n",
       "  113.754,1487.47 113.754,1470.19 \n",
       "  \"/>\n",
       "<polyline clip-path=\"url(#clip2000)\" style=\"stroke:#adb2b7; stroke-width:4; stroke-opacity:1; fill:none\" points=\"\n",
       "  433.612,1487.47 433.612,1470.19 \n",
       "  \"/>\n",
       "<polyline clip-path=\"url(#clip2000)\" style=\"stroke:#adb2b7; stroke-width:4; stroke-opacity:1; fill:none\" points=\"\n",
       "  753.469,1487.47 753.469,1470.19 \n",
       "  \"/>\n",
       "<polyline clip-path=\"url(#clip2000)\" style=\"stroke:#adb2b7; stroke-width:4; stroke-opacity:1; fill:none\" points=\"\n",
       "  1073.33,1487.47 1073.33,1470.19 \n",
       "  \"/>\n",
       "<polyline clip-path=\"url(#clip2000)\" style=\"stroke:#adb2b7; stroke-width:4; stroke-opacity:1; fill:none\" points=\"\n",
       "  1393.18,1487.47 1393.18,1470.19 \n",
       "  \"/>\n",
       "<polyline clip-path=\"url(#clip2000)\" style=\"stroke:#adb2b7; stroke-width:4; stroke-opacity:1; fill:none\" points=\"\n",
       "  1713.04,1487.47 1713.04,1470.19 \n",
       "  \"/>\n",
       "<polyline clip-path=\"url(#clip2000)\" style=\"stroke:#adb2b7; stroke-width:4; stroke-opacity:1; fill:none\" points=\"\n",
       "  2032.9,1487.47 2032.9,1470.19 \n",
       "  \"/>\n",
       "<polyline clip-path=\"url(#clip2000)\" style=\"stroke:#adb2b7; stroke-width:4; stroke-opacity:1; fill:none\" points=\"\n",
       "  2352.76,1487.47 2352.76,1470.19 \n",
       "  \"/>\n",
       "<polyline clip-path=\"url(#clip2000)\" style=\"stroke:#adb2b7; stroke-width:4; stroke-opacity:1; fill:none\" points=\"\n",
       "  113.754,1487.47 140.622,1487.47 \n",
       "  \"/>\n",
       "<polyline clip-path=\"url(#clip2000)\" style=\"stroke:#adb2b7; stroke-width:4; stroke-opacity:1; fill:none\" points=\"\n",
       "  113.754,1247.44 140.622,1247.44 \n",
       "  \"/>\n",
       "<polyline clip-path=\"url(#clip2000)\" style=\"stroke:#adb2b7; stroke-width:4; stroke-opacity:1; fill:none\" points=\"\n",
       "  113.754,1007.4 140.622,1007.4 \n",
       "  \"/>\n",
       "<polyline clip-path=\"url(#clip2000)\" style=\"stroke:#adb2b7; stroke-width:4; stroke-opacity:1; fill:none\" points=\"\n",
       "  113.754,767.359 140.622,767.359 \n",
       "  \"/>\n",
       "<polyline clip-path=\"url(#clip2000)\" style=\"stroke:#adb2b7; stroke-width:4; stroke-opacity:1; fill:none\" points=\"\n",
       "  113.754,527.321 140.622,527.321 \n",
       "  \"/>\n",
       "<polyline clip-path=\"url(#clip2000)\" style=\"stroke:#adb2b7; stroke-width:4; stroke-opacity:1; fill:none\" points=\"\n",
       "  113.754,287.283 140.622,287.283 \n",
       "  \"/>\n",
       "<polyline clip-path=\"url(#clip2000)\" style=\"stroke:#adb2b7; stroke-width:4; stroke-opacity:1; fill:none\" points=\"\n",
       "  113.754,47.2441 140.622,47.2441 \n",
       "  \"/>\n",
       "<g clip-path=\"url(#clip2000)\">\n",
       "<text style=\"fill:#adb2b7; fill-opacity:1; font-family:Arial,Helvetica Neue,Helvetica,sans-serif; font-size:48px; text-anchor:middle;\" transform=\"rotate(0, 113.754, 1541.47)\" x=\"113.754\" y=\"1541.47\">0</text>\n",
       "</g>\n",
       "<g clip-path=\"url(#clip2000)\">\n",
       "<text style=\"fill:#adb2b7; fill-opacity:1; font-family:Arial,Helvetica Neue,Helvetica,sans-serif; font-size:48px; text-anchor:middle;\" transform=\"rotate(0, 433.612, 1541.47)\" x=\"433.612\" y=\"1541.47\">1</text>\n",
       "</g>\n",
       "<g clip-path=\"url(#clip2000)\">\n",
       "<text style=\"fill:#adb2b7; fill-opacity:1; font-family:Arial,Helvetica Neue,Helvetica,sans-serif; font-size:48px; text-anchor:middle;\" transform=\"rotate(0, 753.469, 1541.47)\" x=\"753.469\" y=\"1541.47\">2</text>\n",
       "</g>\n",
       "<g clip-path=\"url(#clip2000)\">\n",
       "<text style=\"fill:#adb2b7; fill-opacity:1; font-family:Arial,Helvetica Neue,Helvetica,sans-serif; font-size:48px; text-anchor:middle;\" transform=\"rotate(0, 1073.33, 1541.47)\" x=\"1073.33\" y=\"1541.47\">3</text>\n",
       "</g>\n",
       "<g clip-path=\"url(#clip2000)\">\n",
       "<text style=\"fill:#adb2b7; fill-opacity:1; font-family:Arial,Helvetica Neue,Helvetica,sans-serif; font-size:48px; text-anchor:middle;\" transform=\"rotate(0, 1393.18, 1541.47)\" x=\"1393.18\" y=\"1541.47\">4</text>\n",
       "</g>\n",
       "<g clip-path=\"url(#clip2000)\">\n",
       "<text style=\"fill:#adb2b7; fill-opacity:1; font-family:Arial,Helvetica Neue,Helvetica,sans-serif; font-size:48px; text-anchor:middle;\" transform=\"rotate(0, 1713.04, 1541.47)\" x=\"1713.04\" y=\"1541.47\">5</text>\n",
       "</g>\n",
       "<g clip-path=\"url(#clip2000)\">\n",
       "<text style=\"fill:#adb2b7; fill-opacity:1; font-family:Arial,Helvetica Neue,Helvetica,sans-serif; font-size:48px; text-anchor:middle;\" transform=\"rotate(0, 2032.9, 1541.47)\" x=\"2032.9\" y=\"1541.47\">6</text>\n",
       "</g>\n",
       "<g clip-path=\"url(#clip2000)\">\n",
       "<text style=\"fill:#adb2b7; fill-opacity:1; font-family:Arial,Helvetica Neue,Helvetica,sans-serif; font-size:48px; text-anchor:middle;\" transform=\"rotate(0, 2352.76, 1541.47)\" x=\"2352.76\" y=\"1541.47\">7</text>\n",
       "</g>\n",
       "<g clip-path=\"url(#clip2000)\">\n",
       "<text style=\"fill:#adb2b7; fill-opacity:1; font-family:Arial,Helvetica Neue,Helvetica,sans-serif; font-size:48px; text-anchor:end;\" transform=\"rotate(0, 89.7545, 1504.97)\" x=\"89.7545\" y=\"1504.97\">0</text>\n",
       "</g>\n",
       "<g clip-path=\"url(#clip2000)\">\n",
       "<text style=\"fill:#adb2b7; fill-opacity:1; font-family:Arial,Helvetica Neue,Helvetica,sans-serif; font-size:48px; text-anchor:end;\" transform=\"rotate(0, 89.7545, 1264.94)\" x=\"89.7545\" y=\"1264.94\">1</text>\n",
       "</g>\n",
       "<g clip-path=\"url(#clip2000)\">\n",
       "<text style=\"fill:#adb2b7; fill-opacity:1; font-family:Arial,Helvetica Neue,Helvetica,sans-serif; font-size:48px; text-anchor:end;\" transform=\"rotate(0, 89.7545, 1024.9)\" x=\"89.7545\" y=\"1024.9\">2</text>\n",
       "</g>\n",
       "<g clip-path=\"url(#clip2000)\">\n",
       "<text style=\"fill:#adb2b7; fill-opacity:1; font-family:Arial,Helvetica Neue,Helvetica,sans-serif; font-size:48px; text-anchor:end;\" transform=\"rotate(0, 89.7545, 784.859)\" x=\"89.7545\" y=\"784.859\">3</text>\n",
       "</g>\n",
       "<g clip-path=\"url(#clip2000)\">\n",
       "<text style=\"fill:#adb2b7; fill-opacity:1; font-family:Arial,Helvetica Neue,Helvetica,sans-serif; font-size:48px; text-anchor:end;\" transform=\"rotate(0, 89.7545, 544.821)\" x=\"89.7545\" y=\"544.821\">4</text>\n",
       "</g>\n",
       "<g clip-path=\"url(#clip2000)\">\n",
       "<text style=\"fill:#adb2b7; fill-opacity:1; font-family:Arial,Helvetica Neue,Helvetica,sans-serif; font-size:48px; text-anchor:end;\" transform=\"rotate(0, 89.7545, 304.783)\" x=\"89.7545\" y=\"304.783\">5</text>\n",
       "</g>\n",
       "<g clip-path=\"url(#clip2000)\">\n",
       "<text style=\"fill:#adb2b7; fill-opacity:1; font-family:Arial,Helvetica Neue,Helvetica,sans-serif; font-size:48px; text-anchor:end;\" transform=\"rotate(0, 89.7545, 64.7441)\" x=\"89.7545\" y=\"64.7441\">6</text>\n",
       "</g>\n",
       "<line clip-path=\"url(#clip2002)\" x1=\"433.612\" y1=\"1007.4\" x2=\"433.612\" y2=\"991.398\" style=\"stroke:#ff0000; stroke-width:3.2; stroke-opacity:1\"/>\n",
       "<line clip-path=\"url(#clip2002)\" x1=\"433.612\" y1=\"1007.4\" x2=\"417.612\" y2=\"1007.4\" style=\"stroke:#ff0000; stroke-width:3.2; stroke-opacity:1\"/>\n",
       "<line clip-path=\"url(#clip2002)\" x1=\"433.612\" y1=\"1007.4\" x2=\"433.612\" y2=\"1023.4\" style=\"stroke:#ff0000; stroke-width:3.2; stroke-opacity:1\"/>\n",
       "<line clip-path=\"url(#clip2002)\" x1=\"433.612\" y1=\"1007.4\" x2=\"449.612\" y2=\"1007.4\" style=\"stroke:#ff0000; stroke-width:3.2; stroke-opacity:1\"/>\n",
       "<line clip-path=\"url(#clip2002)\" x1=\"753.469\" y1=\"1247.44\" x2=\"753.469\" y2=\"1231.44\" style=\"stroke:#ff0000; stroke-width:3.2; stroke-opacity:1\"/>\n",
       "<line clip-path=\"url(#clip2002)\" x1=\"753.469\" y1=\"1247.44\" x2=\"737.469\" y2=\"1247.44\" style=\"stroke:#ff0000; stroke-width:3.2; stroke-opacity:1\"/>\n",
       "<line clip-path=\"url(#clip2002)\" x1=\"753.469\" y1=\"1247.44\" x2=\"753.469\" y2=\"1263.44\" style=\"stroke:#ff0000; stroke-width:3.2; stroke-opacity:1\"/>\n",
       "<line clip-path=\"url(#clip2002)\" x1=\"753.469\" y1=\"1247.44\" x2=\"769.469\" y2=\"1247.44\" style=\"stroke:#ff0000; stroke-width:3.2; stroke-opacity:1\"/>\n",
       "<line clip-path=\"url(#clip2002)\" x1=\"753.469\" y1=\"527.321\" x2=\"753.469\" y2=\"511.321\" style=\"stroke:#ff0000; stroke-width:3.2; stroke-opacity:1\"/>\n",
       "<line clip-path=\"url(#clip2002)\" x1=\"753.469\" y1=\"527.321\" x2=\"737.469\" y2=\"527.321\" style=\"stroke:#ff0000; stroke-width:3.2; stroke-opacity:1\"/>\n",
       "<line clip-path=\"url(#clip2002)\" x1=\"753.469\" y1=\"527.321\" x2=\"753.469\" y2=\"543.321\" style=\"stroke:#ff0000; stroke-width:3.2; stroke-opacity:1\"/>\n",
       "<line clip-path=\"url(#clip2002)\" x1=\"753.469\" y1=\"527.321\" x2=\"769.469\" y2=\"527.321\" style=\"stroke:#ff0000; stroke-width:3.2; stroke-opacity:1\"/>\n",
       "<circle clip-path=\"url(#clip2002)\" cx=\"1073.33\" cy=\"1247.44\" r=\"14\" fill=\"#0000ff\" fill-rule=\"evenodd\" fill-opacity=\"1\" stroke=\"#adb2b7\" stroke-opacity=\"1\" stroke-width=\"3.2\"/>\n",
       "<circle clip-path=\"url(#clip2002)\" cx=\"1073.33\" cy=\"1007.4\" r=\"14\" fill=\"#0000ff\" fill-rule=\"evenodd\" fill-opacity=\"1\" stroke=\"#adb2b7\" stroke-opacity=\"1\" stroke-width=\"3.2\"/>\n",
       "<line clip-path=\"url(#clip2002)\" x1=\"1073.33\" y1=\"767.359\" x2=\"1073.33\" y2=\"751.359\" style=\"stroke:#ff0000; stroke-width:3.2; stroke-opacity:1\"/>\n",
       "<line clip-path=\"url(#clip2002)\" x1=\"1073.33\" y1=\"767.359\" x2=\"1057.33\" y2=\"767.359\" style=\"stroke:#ff0000; stroke-width:3.2; stroke-opacity:1\"/>\n",
       "<line clip-path=\"url(#clip2002)\" x1=\"1073.33\" y1=\"767.359\" x2=\"1073.33\" y2=\"783.359\" style=\"stroke:#ff0000; stroke-width:3.2; stroke-opacity:1\"/>\n",
       "<line clip-path=\"url(#clip2002)\" x1=\"1073.33\" y1=\"767.359\" x2=\"1089.33\" y2=\"767.359\" style=\"stroke:#ff0000; stroke-width:3.2; stroke-opacity:1\"/>\n",
       "<circle clip-path=\"url(#clip2002)\" cx=\"1393.18\" cy=\"1007.4\" r=\"14\" fill=\"#0000ff\" fill-rule=\"evenodd\" fill-opacity=\"1\" stroke=\"#adb2b7\" stroke-opacity=\"1\" stroke-width=\"3.2\"/>\n",
       "<line clip-path=\"url(#clip2002)\" x1=\"1393.18\" y1=\"767.359\" x2=\"1393.18\" y2=\"751.359\" style=\"stroke:#ff0000; stroke-width:3.2; stroke-opacity:1\"/>\n",
       "<line clip-path=\"url(#clip2002)\" x1=\"1393.18\" y1=\"767.359\" x2=\"1377.18\" y2=\"767.359\" style=\"stroke:#ff0000; stroke-width:3.2; stroke-opacity:1\"/>\n",
       "<line clip-path=\"url(#clip2002)\" x1=\"1393.18\" y1=\"767.359\" x2=\"1393.18\" y2=\"783.359\" style=\"stroke:#ff0000; stroke-width:3.2; stroke-opacity:1\"/>\n",
       "<line clip-path=\"url(#clip2002)\" x1=\"1393.18\" y1=\"767.359\" x2=\"1409.18\" y2=\"767.359\" style=\"stroke:#ff0000; stroke-width:3.2; stroke-opacity:1\"/>\n",
       "<line clip-path=\"url(#clip2002)\" x1=\"1393.18\" y1=\"287.283\" x2=\"1393.18\" y2=\"271.283\" style=\"stroke:#ff0000; stroke-width:3.2; stroke-opacity:1\"/>\n",
       "<line clip-path=\"url(#clip2002)\" x1=\"1393.18\" y1=\"287.283\" x2=\"1377.18\" y2=\"287.283\" style=\"stroke:#ff0000; stroke-width:3.2; stroke-opacity:1\"/>\n",
       "<line clip-path=\"url(#clip2002)\" x1=\"1393.18\" y1=\"287.283\" x2=\"1393.18\" y2=\"303.283\" style=\"stroke:#ff0000; stroke-width:3.2; stroke-opacity:1\"/>\n",
       "<line clip-path=\"url(#clip2002)\" x1=\"1393.18\" y1=\"287.283\" x2=\"1409.18\" y2=\"287.283\" style=\"stroke:#ff0000; stroke-width:3.2; stroke-opacity:1\"/>\n",
       "<circle clip-path=\"url(#clip2002)\" cx=\"1713.04\" cy=\"767.359\" r=\"14\" fill=\"#0000ff\" fill-rule=\"evenodd\" fill-opacity=\"1\" stroke=\"#adb2b7\" stroke-opacity=\"1\" stroke-width=\"3.2\"/>\n",
       "<circle clip-path=\"url(#clip2002)\" cx=\"2032.9\" cy=\"1247.44\" r=\"14\" fill=\"#0000ff\" fill-rule=\"evenodd\" fill-opacity=\"1\" stroke=\"#adb2b7\" stroke-opacity=\"1\" stroke-width=\"3.2\"/>\n",
       "<circle clip-path=\"url(#clip2002)\" cx=\"2032.9\" cy=\"767.359\" r=\"14\" fill=\"#0000ff\" fill-rule=\"evenodd\" fill-opacity=\"1\" stroke=\"#adb2b7\" stroke-opacity=\"1\" stroke-width=\"3.2\"/>\n",
       "<line clip-path=\"url(#clip2002)\" x1=\"2032.9\" y1=\"527.321\" x2=\"2032.9\" y2=\"511.321\" style=\"stroke:#ff0000; stroke-width:3.2; stroke-opacity:1\"/>\n",
       "<line clip-path=\"url(#clip2002)\" x1=\"2032.9\" y1=\"527.321\" x2=\"2016.9\" y2=\"527.321\" style=\"stroke:#ff0000; stroke-width:3.2; stroke-opacity:1\"/>\n",
       "<line clip-path=\"url(#clip2002)\" x1=\"2032.9\" y1=\"527.321\" x2=\"2032.9\" y2=\"543.321\" style=\"stroke:#ff0000; stroke-width:3.2; stroke-opacity:1\"/>\n",
       "<line clip-path=\"url(#clip2002)\" x1=\"2032.9\" y1=\"527.321\" x2=\"2048.9\" y2=\"527.321\" style=\"stroke:#ff0000; stroke-width:3.2; stroke-opacity:1\"/>\n",
       "</svg>\n"
      ]
     },
     "execution_count": 3,
     "metadata": {},
     "output_type": "execute_result"
    }
   ],
   "source": [
    "plot(legend = false, xlim = (0, 7), ylim = (0, 6))\n",
    "for i = 1:length(X)\n",
    "    if y[i] == 1\n",
    "        scatter!([X[i]],\n",
    "        color = :red, \n",
    "        shape = :cross)\n",
    "    else\n",
    "        scatter!([X[i]], \n",
    "        color = :blue,\n",
    "        shape = :circle)\n",
    "    end\n",
    "end\n",
    "scatter!()"
   ]
  },
  {
   "cell_type": "code",
   "execution_count": 4,
   "metadata": {},
   "outputs": [
    {
     "data": {
      "text/plain": [
       "train (generic function with 1 method)"
      ]
     },
     "execution_count": 4,
     "metadata": {},
     "output_type": "execute_result"
    }
   ],
   "source": [
    "# Define indicator function \n",
    "I(x,y) = x != y ? 1.0 : 0.0\n",
    "\n",
    "# Define stump classifier\n",
    "c(x, j, θ) = x[j] > θ ? 1.0 : -1.0\n",
    "\n",
    "function train(X, w, y)\n",
    "    # Determine the number of data points\n",
    "    N = length(X)\n",
    "    \n",
    "    # Assign points as keys for both labels and weights\n",
    "    y_labels = Dict(X[i] => y[i] for i = 1:N)\n",
    "    w_labels = Dict(X[i] => w[i] for i = 1:N)\n",
    "    \n",
    "    # Will store cumulative sums in the following dictionary\n",
    "    cumulative_sums = Dict()\n",
    "    \n",
    "    # Copy X, since we do not want to modify X\n",
    "    X_temp = copy(X)\n",
    "    \n",
    "    \n",
    "    for i = 1:2 \n",
    "        sort!(X_temp, by = x -> x[i])\n",
    "        ith_cumulative_sum = []\n",
    "        \n",
    "        for j = 1:N\n",
    "            jth_cumulative_sum = sum(w_labels[X_temp[k]]*y_labels[X_temp[k]] for k = 1:j)\n",
    "            push!(ith_cumulative_sum, jth_cumulative_sum)\n",
    "        end\n",
    "        #println(ith_cumulative_sum)\n",
    "        cumulative_sums[i] = extrema(ith_cumulative_sum)\n",
    "    end\n",
    "\n",
    "    # Find the extrema for each of the ith entries\n",
    "    theta_vals = [maximum(abs.(cumulative_sums[i])) for i = 1:2]\n",
    "    \n",
    "    #println(theta_vals)\n",
    "    minimize = []\n",
    "    for j = 1:2\n",
    "        temp_val = sum(w_labels[X[i]]*I(y_labels[X[i]], c(X[i], j, theta_vals[j])) for i = 1:N)\n",
    "        push!(minimize, temp_val)\n",
    "    end\n",
    "    j = argmin(minimize)\n",
    "    θ = theta_vals[j]\n",
    "                            \n",
    "    return j, θ\n",
    "end"
   ]
  },
  {
   "cell_type": "code",
   "execution_count": 5,
   "metadata": {},
   "outputs": [
    {
     "data": {
      "text/plain": [
       "(1, 0.23076923076923078)"
      ]
     },
     "execution_count": 5,
     "metadata": {},
     "output_type": "execute_result"
    }
   ],
   "source": [
    "w = [1/length(X) for _ in 1:length(X)]\n",
    "j1, θ1 = train(X, w, y)"
   ]
  },
  {
   "cell_type": "code",
   "execution_count": 6,
   "metadata": {},
   "outputs": [
    {
     "data": {
      "text/plain": [
       "0.4615384615384617"
      ]
     },
     "execution_count": 6,
     "metadata": {},
     "output_type": "execute_result"
    }
   ],
   "source": [
    "ϵ1 = sum(w[i]*I(y[i], c(X[i], j1, θ1)) for i = 1:length(X))/sum(w)"
   ]
  },
  {
   "cell_type": "code",
   "execution_count": 7,
   "metadata": {},
   "outputs": [
    {
     "data": {
      "text/plain": [
       "0.1541506798272578"
      ]
     },
     "execution_count": 7,
     "metadata": {},
     "output_type": "execute_result"
    }
   ],
   "source": [
    "α1 = log((1-ϵ1)/ϵ1)"
   ]
  },
  {
   "cell_type": "code",
   "execution_count": 8,
   "metadata": {},
   "outputs": [
    {
     "data": {
      "text/plain": [
       "13-element Array{Float64,1}:\n",
       " 0.07692307692307693\n",
       " 0.07692307692307693\n",
       " 0.07692307692307693\n",
       " 0.0897435897435897 \n",
       " 0.0897435897435897 \n",
       " 0.07692307692307693\n",
       " 0.0897435897435897 \n",
       " 0.07692307692307693\n",
       " 0.07692307692307693\n",
       " 0.0897435897435897 \n",
       " 0.0897435897435897 \n",
       " 0.0897435897435897 \n",
       " 0.07692307692307693"
      ]
     },
     "execution_count": 8,
     "metadata": {},
     "output_type": "execute_result"
    }
   ],
   "source": [
    "w = [w[i]*exp(α1*I(y[i], c(X[i], j1, θ1))) for i = 1:length(X)]"
   ]
  },
  {
   "cell_type": "code",
   "execution_count": 9,
   "metadata": {},
   "outputs": [
    {
     "data": {
      "text/plain": [
       "(1, 0.23076923076923078)"
      ]
     },
     "execution_count": 9,
     "metadata": {},
     "output_type": "execute_result"
    }
   ],
   "source": [
    "j2, θ2 = train(X, w, y)"
   ]
  },
  {
   "cell_type": "code",
   "execution_count": 10,
   "metadata": {},
   "outputs": [
    {
     "data": {
      "text/plain": [
       "13-element Array{Float64,1}:\n",
       " 0.07692307692307693\n",
       " 0.07692307692307693\n",
       " 0.07692307692307693\n",
       " 0.0897435897435897 \n",
       " 0.0897435897435897 \n",
       " 0.07692307692307693\n",
       " 0.0897435897435897 \n",
       " 0.07692307692307693\n",
       " 0.07692307692307693\n",
       " 0.0897435897435897 \n",
       " 0.0897435897435897 \n",
       " 0.0897435897435897 \n",
       " 0.07692307692307693"
      ]
     },
     "execution_count": 10,
     "metadata": {},
     "output_type": "execute_result"
    }
   ],
   "source": [
    "ϵ2 = sum(w[i]*I(y[i], c(X[i], j2, θ2)) for i = 1:length(X))/sum(w)\n",
    "α2 = log((1-ϵ2)/ϵ2)\n",
    "w = [w[i]*exp(α2*I(y[i], c(X[i], j2, θ2))) for i = 1:length(X)]"
   ]
  },
  {
   "cell_type": "code",
   "execution_count": 11,
   "metadata": {},
   "outputs": [
    {
     "data": {
      "text/plain": [
       "13-element Array{Float64,1}:\n",
       " 0.07692307692307693\n",
       " 0.07692307692307693\n",
       " 0.07692307692307693\n",
       " 0.0897435897435897 \n",
       " 0.0897435897435897 \n",
       " 0.07692307692307693\n",
       " 0.0897435897435897 \n",
       " 0.07692307692307693\n",
       " 0.07692307692307693\n",
       " 0.0897435897435897 \n",
       " 0.0897435897435897 \n",
       " 0.0897435897435897 \n",
       " 0.07692307692307693"
      ]
     },
     "execution_count": 11,
     "metadata": {},
     "output_type": "execute_result"
    }
   ],
   "source": [
    "j3, θ3 = train(X, w, y)\n",
    "ϵ3 = sum(w[i]*I(y[i], c(X[i], j3, θ3)) for i = 1:length(X))/sum(w)\n",
    "α3 = log((1-ϵ3)/ϵ3)\n",
    "w = [w[i]*exp(α3*I(y[i], c(X[i], j3, θ3))) for i = 1:length(X)]"
   ]
  },
  {
   "cell_type": "code",
   "execution_count": 12,
   "metadata": {},
   "outputs": [
    {
     "data": {
      "text/plain": [
       "13-element Array{Float64,1}:\n",
       " 0.07692307692307693\n",
       " 0.07692307692307693\n",
       " 0.07692307692307693\n",
       " 0.0897435897435897 \n",
       " 0.0897435897435897 \n",
       " 0.07692307692307693\n",
       " 0.0897435897435897 \n",
       " 0.07692307692307693\n",
       " 0.07692307692307693\n",
       " 0.0897435897435897 \n",
       " 0.0897435897435897 \n",
       " 0.0897435897435897 \n",
       " 0.07692307692307693"
      ]
     },
     "execution_count": 12,
     "metadata": {},
     "output_type": "execute_result"
    }
   ],
   "source": [
    "j4, θ4 = train(X, w, y)\n",
    "ϵ4 = sum(w[i]*I(y[i], c(X[i], j4, θ4)) for i = 1:length(X))/sum(w)\n",
    "α4 = log((1-ϵ4)/ϵ4)\n",
    "w = [w[i]*exp(α4*I(y[i], c(X[i], j4, θ4))) for i = 1:length(X)]"
   ]
  },
  {
   "cell_type": "code",
   "execution_count": 13,
   "metadata": {},
   "outputs": [
    {
     "data": {
      "text/plain": [
       "13-element Array{Float64,1}:\n",
       " 0.07692307692307693\n",
       " 0.07692307692307693\n",
       " 0.07692307692307693\n",
       " 0.0897435897435897 \n",
       " 0.0897435897435897 \n",
       " 0.07692307692307693\n",
       " 0.0897435897435897 \n",
       " 0.07692307692307693\n",
       " 0.07692307692307693\n",
       " 0.0897435897435897 \n",
       " 0.0897435897435897 \n",
       " 0.0897435897435897 \n",
       " 0.07692307692307693"
      ]
     },
     "execution_count": 13,
     "metadata": {},
     "output_type": "execute_result"
    }
   ],
   "source": [
    "j5, θ5 = train(X, w, y)\n",
    "ϵ5 = sum(w[i]*I(y[i], c(X[i], j5, θ5)) for i = 1:length(X))/sum(w)\n",
    "α5 = log((1-ϵ5)/ϵ5)\n",
    "w = [w[i]*exp(α5*I(y[i], c(X[i], j5, θ5))) for i = 1:length(X)]"
   ]
  },
  {
   "cell_type": "code",
   "execution_count": 15,
   "metadata": {},
   "outputs": [
    {
     "data": {
      "image/svg+xml": [
       "<?xml version=\"1.0\" encoding=\"utf-8\"?>\n",
       "<svg xmlns=\"http://www.w3.org/2000/svg\" xmlns:xlink=\"http://www.w3.org/1999/xlink\" width=\"600\" height=\"400\" viewBox=\"0 0 2400 1600\">\n",
       "<defs>\n",
       "  <clipPath id=\"clip2800\">\n",
       "    <rect x=\"0\" y=\"0\" width=\"2400\" height=\"1600\"/>\n",
       "  </clipPath>\n",
       "</defs>\n",
       "<path clip-path=\"url(#clip2800)\" d=\"\n",
       "M0 1600 L2400 1600 L2400 0 L0 0  Z\n",
       "  \" fill=\"#363d46\" fill-rule=\"evenodd\" fill-opacity=\"1\"/>\n",
       "<defs>\n",
       "  <clipPath id=\"clip2801\">\n",
       "    <rect x=\"480\" y=\"0\" width=\"1681\" height=\"1600\"/>\n",
       "  </clipPath>\n",
       "</defs>\n",
       "<path clip-path=\"url(#clip2800)\" d=\"\n",
       "M113.754 1487.47 L2352.76 1487.47 L2352.76 47.2441 L113.754 47.2441  Z\n",
       "  \" fill=\"#30343b\" fill-rule=\"evenodd\" fill-opacity=\"1\"/>\n",
       "<defs>\n",
       "  <clipPath id=\"clip2802\">\n",
       "    <rect x=\"113\" y=\"47\" width=\"2240\" height=\"1441\"/>\n",
       "  </clipPath>\n",
       "</defs>\n",
       "<polyline clip-path=\"url(#clip2802)\" style=\"stroke:#adb2b7; stroke-width:2; stroke-opacity:0.1; fill:none\" points=\"\n",
       "  113.754,1487.47 113.754,47.2441 \n",
       "  \"/>\n",
       "<polyline clip-path=\"url(#clip2802)\" style=\"stroke:#adb2b7; stroke-width:2; stroke-opacity:0.1; fill:none\" points=\"\n",
       "  433.612,1487.47 433.612,47.2441 \n",
       "  \"/>\n",
       "<polyline clip-path=\"url(#clip2802)\" style=\"stroke:#adb2b7; stroke-width:2; stroke-opacity:0.1; fill:none\" points=\"\n",
       "  753.469,1487.47 753.469,47.2441 \n",
       "  \"/>\n",
       "<polyline clip-path=\"url(#clip2802)\" style=\"stroke:#adb2b7; stroke-width:2; stroke-opacity:0.1; fill:none\" points=\"\n",
       "  1073.33,1487.47 1073.33,47.2441 \n",
       "  \"/>\n",
       "<polyline clip-path=\"url(#clip2802)\" style=\"stroke:#adb2b7; stroke-width:2; stroke-opacity:0.1; fill:none\" points=\"\n",
       "  1393.18,1487.47 1393.18,47.2441 \n",
       "  \"/>\n",
       "<polyline clip-path=\"url(#clip2802)\" style=\"stroke:#adb2b7; stroke-width:2; stroke-opacity:0.1; fill:none\" points=\"\n",
       "  1713.04,1487.47 1713.04,47.2441 \n",
       "  \"/>\n",
       "<polyline clip-path=\"url(#clip2802)\" style=\"stroke:#adb2b7; stroke-width:2; stroke-opacity:0.1; fill:none\" points=\"\n",
       "  2032.9,1487.47 2032.9,47.2441 \n",
       "  \"/>\n",
       "<polyline clip-path=\"url(#clip2802)\" style=\"stroke:#adb2b7; stroke-width:2; stroke-opacity:0.1; fill:none\" points=\"\n",
       "  2352.76,1487.47 2352.76,47.2441 \n",
       "  \"/>\n",
       "<polyline clip-path=\"url(#clip2802)\" style=\"stroke:#adb2b7; stroke-width:2; stroke-opacity:0.1; fill:none\" points=\"\n",
       "  113.754,1487.47 2352.76,1487.47 \n",
       "  \"/>\n",
       "<polyline clip-path=\"url(#clip2802)\" style=\"stroke:#adb2b7; stroke-width:2; stroke-opacity:0.1; fill:none\" points=\"\n",
       "  113.754,1247.44 2352.76,1247.44 \n",
       "  \"/>\n",
       "<polyline clip-path=\"url(#clip2802)\" style=\"stroke:#adb2b7; stroke-width:2; stroke-opacity:0.1; fill:none\" points=\"\n",
       "  113.754,1007.4 2352.76,1007.4 \n",
       "  \"/>\n",
       "<polyline clip-path=\"url(#clip2802)\" style=\"stroke:#adb2b7; stroke-width:2; stroke-opacity:0.1; fill:none\" points=\"\n",
       "  113.754,767.359 2352.76,767.359 \n",
       "  \"/>\n",
       "<polyline clip-path=\"url(#clip2802)\" style=\"stroke:#adb2b7; stroke-width:2; stroke-opacity:0.1; fill:none\" points=\"\n",
       "  113.754,527.321 2352.76,527.321 \n",
       "  \"/>\n",
       "<polyline clip-path=\"url(#clip2802)\" style=\"stroke:#adb2b7; stroke-width:2; stroke-opacity:0.1; fill:none\" points=\"\n",
       "  113.754,287.283 2352.76,287.283 \n",
       "  \"/>\n",
       "<polyline clip-path=\"url(#clip2802)\" style=\"stroke:#adb2b7; stroke-width:2; stroke-opacity:0.1; fill:none\" points=\"\n",
       "  113.754,47.2441 2352.76,47.2441 \n",
       "  \"/>\n",
       "<polyline clip-path=\"url(#clip2800)\" style=\"stroke:#adb2b7; stroke-width:4; stroke-opacity:1; fill:none\" points=\"\n",
       "  113.754,1487.47 2352.76,1487.47 \n",
       "  \"/>\n",
       "<polyline clip-path=\"url(#clip2800)\" style=\"stroke:#adb2b7; stroke-width:4; stroke-opacity:1; fill:none\" points=\"\n",
       "  113.754,1487.47 113.754,47.2441 \n",
       "  \"/>\n",
       "<polyline clip-path=\"url(#clip2800)\" style=\"stroke:#adb2b7; stroke-width:4; stroke-opacity:1; fill:none\" points=\"\n",
       "  113.754,1487.47 113.754,1470.19 \n",
       "  \"/>\n",
       "<polyline clip-path=\"url(#clip2800)\" style=\"stroke:#adb2b7; stroke-width:4; stroke-opacity:1; fill:none\" points=\"\n",
       "  433.612,1487.47 433.612,1470.19 \n",
       "  \"/>\n",
       "<polyline clip-path=\"url(#clip2800)\" style=\"stroke:#adb2b7; stroke-width:4; stroke-opacity:1; fill:none\" points=\"\n",
       "  753.469,1487.47 753.469,1470.19 \n",
       "  \"/>\n",
       "<polyline clip-path=\"url(#clip2800)\" style=\"stroke:#adb2b7; stroke-width:4; stroke-opacity:1; fill:none\" points=\"\n",
       "  1073.33,1487.47 1073.33,1470.19 \n",
       "  \"/>\n",
       "<polyline clip-path=\"url(#clip2800)\" style=\"stroke:#adb2b7; stroke-width:4; stroke-opacity:1; fill:none\" points=\"\n",
       "  1393.18,1487.47 1393.18,1470.19 \n",
       "  \"/>\n",
       "<polyline clip-path=\"url(#clip2800)\" style=\"stroke:#adb2b7; stroke-width:4; stroke-opacity:1; fill:none\" points=\"\n",
       "  1713.04,1487.47 1713.04,1470.19 \n",
       "  \"/>\n",
       "<polyline clip-path=\"url(#clip2800)\" style=\"stroke:#adb2b7; stroke-width:4; stroke-opacity:1; fill:none\" points=\"\n",
       "  2032.9,1487.47 2032.9,1470.19 \n",
       "  \"/>\n",
       "<polyline clip-path=\"url(#clip2800)\" style=\"stroke:#adb2b7; stroke-width:4; stroke-opacity:1; fill:none\" points=\"\n",
       "  2352.76,1487.47 2352.76,1470.19 \n",
       "  \"/>\n",
       "<polyline clip-path=\"url(#clip2800)\" style=\"stroke:#adb2b7; stroke-width:4; stroke-opacity:1; fill:none\" points=\"\n",
       "  113.754,1487.47 140.622,1487.47 \n",
       "  \"/>\n",
       "<polyline clip-path=\"url(#clip2800)\" style=\"stroke:#adb2b7; stroke-width:4; stroke-opacity:1; fill:none\" points=\"\n",
       "  113.754,1247.44 140.622,1247.44 \n",
       "  \"/>\n",
       "<polyline clip-path=\"url(#clip2800)\" style=\"stroke:#adb2b7; stroke-width:4; stroke-opacity:1; fill:none\" points=\"\n",
       "  113.754,1007.4 140.622,1007.4 \n",
       "  \"/>\n",
       "<polyline clip-path=\"url(#clip2800)\" style=\"stroke:#adb2b7; stroke-width:4; stroke-opacity:1; fill:none\" points=\"\n",
       "  113.754,767.359 140.622,767.359 \n",
       "  \"/>\n",
       "<polyline clip-path=\"url(#clip2800)\" style=\"stroke:#adb2b7; stroke-width:4; stroke-opacity:1; fill:none\" points=\"\n",
       "  113.754,527.321 140.622,527.321 \n",
       "  \"/>\n",
       "<polyline clip-path=\"url(#clip2800)\" style=\"stroke:#adb2b7; stroke-width:4; stroke-opacity:1; fill:none\" points=\"\n",
       "  113.754,287.283 140.622,287.283 \n",
       "  \"/>\n",
       "<polyline clip-path=\"url(#clip2800)\" style=\"stroke:#adb2b7; stroke-width:4; stroke-opacity:1; fill:none\" points=\"\n",
       "  113.754,47.2441 140.622,47.2441 \n",
       "  \"/>\n",
       "<g clip-path=\"url(#clip2800)\">\n",
       "<text style=\"fill:#adb2b7; fill-opacity:1; font-family:Arial,Helvetica Neue,Helvetica,sans-serif; font-size:48px; text-anchor:middle;\" transform=\"rotate(0, 113.754, 1541.47)\" x=\"113.754\" y=\"1541.47\">0</text>\n",
       "</g>\n",
       "<g clip-path=\"url(#clip2800)\">\n",
       "<text style=\"fill:#adb2b7; fill-opacity:1; font-family:Arial,Helvetica Neue,Helvetica,sans-serif; font-size:48px; text-anchor:middle;\" transform=\"rotate(0, 433.612, 1541.47)\" x=\"433.612\" y=\"1541.47\">1</text>\n",
       "</g>\n",
       "<g clip-path=\"url(#clip2800)\">\n",
       "<text style=\"fill:#adb2b7; fill-opacity:1; font-family:Arial,Helvetica Neue,Helvetica,sans-serif; font-size:48px; text-anchor:middle;\" transform=\"rotate(0, 753.469, 1541.47)\" x=\"753.469\" y=\"1541.47\">2</text>\n",
       "</g>\n",
       "<g clip-path=\"url(#clip2800)\">\n",
       "<text style=\"fill:#adb2b7; fill-opacity:1; font-family:Arial,Helvetica Neue,Helvetica,sans-serif; font-size:48px; text-anchor:middle;\" transform=\"rotate(0, 1073.33, 1541.47)\" x=\"1073.33\" y=\"1541.47\">3</text>\n",
       "</g>\n",
       "<g clip-path=\"url(#clip2800)\">\n",
       "<text style=\"fill:#adb2b7; fill-opacity:1; font-family:Arial,Helvetica Neue,Helvetica,sans-serif; font-size:48px; text-anchor:middle;\" transform=\"rotate(0, 1393.18, 1541.47)\" x=\"1393.18\" y=\"1541.47\">4</text>\n",
       "</g>\n",
       "<g clip-path=\"url(#clip2800)\">\n",
       "<text style=\"fill:#adb2b7; fill-opacity:1; font-family:Arial,Helvetica Neue,Helvetica,sans-serif; font-size:48px; text-anchor:middle;\" transform=\"rotate(0, 1713.04, 1541.47)\" x=\"1713.04\" y=\"1541.47\">5</text>\n",
       "</g>\n",
       "<g clip-path=\"url(#clip2800)\">\n",
       "<text style=\"fill:#adb2b7; fill-opacity:1; font-family:Arial,Helvetica Neue,Helvetica,sans-serif; font-size:48px; text-anchor:middle;\" transform=\"rotate(0, 2032.9, 1541.47)\" x=\"2032.9\" y=\"1541.47\">6</text>\n",
       "</g>\n",
       "<g clip-path=\"url(#clip2800)\">\n",
       "<text style=\"fill:#adb2b7; fill-opacity:1; font-family:Arial,Helvetica Neue,Helvetica,sans-serif; font-size:48px; text-anchor:middle;\" transform=\"rotate(0, 2352.76, 1541.47)\" x=\"2352.76\" y=\"1541.47\">7</text>\n",
       "</g>\n",
       "<g clip-path=\"url(#clip2800)\">\n",
       "<text style=\"fill:#adb2b7; fill-opacity:1; font-family:Arial,Helvetica Neue,Helvetica,sans-serif; font-size:48px; text-anchor:end;\" transform=\"rotate(0, 89.7545, 1504.97)\" x=\"89.7545\" y=\"1504.97\">0</text>\n",
       "</g>\n",
       "<g clip-path=\"url(#clip2800)\">\n",
       "<text style=\"fill:#adb2b7; fill-opacity:1; font-family:Arial,Helvetica Neue,Helvetica,sans-serif; font-size:48px; text-anchor:end;\" transform=\"rotate(0, 89.7545, 1264.94)\" x=\"89.7545\" y=\"1264.94\">1</text>\n",
       "</g>\n",
       "<g clip-path=\"url(#clip2800)\">\n",
       "<text style=\"fill:#adb2b7; fill-opacity:1; font-family:Arial,Helvetica Neue,Helvetica,sans-serif; font-size:48px; text-anchor:end;\" transform=\"rotate(0, 89.7545, 1024.9)\" x=\"89.7545\" y=\"1024.9\">2</text>\n",
       "</g>\n",
       "<g clip-path=\"url(#clip2800)\">\n",
       "<text style=\"fill:#adb2b7; fill-opacity:1; font-family:Arial,Helvetica Neue,Helvetica,sans-serif; font-size:48px; text-anchor:end;\" transform=\"rotate(0, 89.7545, 784.859)\" x=\"89.7545\" y=\"784.859\">3</text>\n",
       "</g>\n",
       "<g clip-path=\"url(#clip2800)\">\n",
       "<text style=\"fill:#adb2b7; fill-opacity:1; font-family:Arial,Helvetica Neue,Helvetica,sans-serif; font-size:48px; text-anchor:end;\" transform=\"rotate(0, 89.7545, 544.821)\" x=\"89.7545\" y=\"544.821\">4</text>\n",
       "</g>\n",
       "<g clip-path=\"url(#clip2800)\">\n",
       "<text style=\"fill:#adb2b7; fill-opacity:1; font-family:Arial,Helvetica Neue,Helvetica,sans-serif; font-size:48px; text-anchor:end;\" transform=\"rotate(0, 89.7545, 304.783)\" x=\"89.7545\" y=\"304.783\">5</text>\n",
       "</g>\n",
       "<g clip-path=\"url(#clip2800)\">\n",
       "<text style=\"fill:#adb2b7; fill-opacity:1; font-family:Arial,Helvetica Neue,Helvetica,sans-serif; font-size:48px; text-anchor:end;\" transform=\"rotate(0, 89.7545, 64.7441)\" x=\"89.7545\" y=\"64.7441\">6</text>\n",
       "</g>\n",
       "<line clip-path=\"url(#clip2802)\" x1=\"433.612\" y1=\"1007.4\" x2=\"433.612\" y2=\"991.398\" style=\"stroke:#ff0000; stroke-width:3.2; stroke-opacity:1\"/>\n",
       "<line clip-path=\"url(#clip2802)\" x1=\"433.612\" y1=\"1007.4\" x2=\"417.612\" y2=\"1007.4\" style=\"stroke:#ff0000; stroke-width:3.2; stroke-opacity:1\"/>\n",
       "<line clip-path=\"url(#clip2802)\" x1=\"433.612\" y1=\"1007.4\" x2=\"433.612\" y2=\"1023.4\" style=\"stroke:#ff0000; stroke-width:3.2; stroke-opacity:1\"/>\n",
       "<line clip-path=\"url(#clip2802)\" x1=\"433.612\" y1=\"1007.4\" x2=\"449.612\" y2=\"1007.4\" style=\"stroke:#ff0000; stroke-width:3.2; stroke-opacity:1\"/>\n",
       "<line clip-path=\"url(#clip2802)\" x1=\"753.469\" y1=\"1247.44\" x2=\"753.469\" y2=\"1231.44\" style=\"stroke:#ff0000; stroke-width:3.2; stroke-opacity:1\"/>\n",
       "<line clip-path=\"url(#clip2802)\" x1=\"753.469\" y1=\"1247.44\" x2=\"737.469\" y2=\"1247.44\" style=\"stroke:#ff0000; stroke-width:3.2; stroke-opacity:1\"/>\n",
       "<line clip-path=\"url(#clip2802)\" x1=\"753.469\" y1=\"1247.44\" x2=\"753.469\" y2=\"1263.44\" style=\"stroke:#ff0000; stroke-width:3.2; stroke-opacity:1\"/>\n",
       "<line clip-path=\"url(#clip2802)\" x1=\"753.469\" y1=\"1247.44\" x2=\"769.469\" y2=\"1247.44\" style=\"stroke:#ff0000; stroke-width:3.2; stroke-opacity:1\"/>\n",
       "<line clip-path=\"url(#clip2802)\" x1=\"753.469\" y1=\"527.321\" x2=\"753.469\" y2=\"511.321\" style=\"stroke:#ff0000; stroke-width:3.2; stroke-opacity:1\"/>\n",
       "<line clip-path=\"url(#clip2802)\" x1=\"753.469\" y1=\"527.321\" x2=\"737.469\" y2=\"527.321\" style=\"stroke:#ff0000; stroke-width:3.2; stroke-opacity:1\"/>\n",
       "<line clip-path=\"url(#clip2802)\" x1=\"753.469\" y1=\"527.321\" x2=\"753.469\" y2=\"543.321\" style=\"stroke:#ff0000; stroke-width:3.2; stroke-opacity:1\"/>\n",
       "<line clip-path=\"url(#clip2802)\" x1=\"753.469\" y1=\"527.321\" x2=\"769.469\" y2=\"527.321\" style=\"stroke:#ff0000; stroke-width:3.2; stroke-opacity:1\"/>\n",
       "<circle clip-path=\"url(#clip2802)\" cx=\"1073.33\" cy=\"1247.44\" r=\"14\" fill=\"#0000ff\" fill-rule=\"evenodd\" fill-opacity=\"1\" stroke=\"#adb2b7\" stroke-opacity=\"1\" stroke-width=\"3.2\"/>\n",
       "<circle clip-path=\"url(#clip2802)\" cx=\"1073.33\" cy=\"1007.4\" r=\"14\" fill=\"#0000ff\" fill-rule=\"evenodd\" fill-opacity=\"1\" stroke=\"#adb2b7\" stroke-opacity=\"1\" stroke-width=\"3.2\"/>\n",
       "<line clip-path=\"url(#clip2802)\" x1=\"1073.33\" y1=\"767.359\" x2=\"1073.33\" y2=\"751.359\" style=\"stroke:#ff0000; stroke-width:3.2; stroke-opacity:1\"/>\n",
       "<line clip-path=\"url(#clip2802)\" x1=\"1073.33\" y1=\"767.359\" x2=\"1057.33\" y2=\"767.359\" style=\"stroke:#ff0000; stroke-width:3.2; stroke-opacity:1\"/>\n",
       "<line clip-path=\"url(#clip2802)\" x1=\"1073.33\" y1=\"767.359\" x2=\"1073.33\" y2=\"783.359\" style=\"stroke:#ff0000; stroke-width:3.2; stroke-opacity:1\"/>\n",
       "<line clip-path=\"url(#clip2802)\" x1=\"1073.33\" y1=\"767.359\" x2=\"1089.33\" y2=\"767.359\" style=\"stroke:#ff0000; stroke-width:3.2; stroke-opacity:1\"/>\n",
       "<circle clip-path=\"url(#clip2802)\" cx=\"1393.18\" cy=\"1007.4\" r=\"14\" fill=\"#0000ff\" fill-rule=\"evenodd\" fill-opacity=\"1\" stroke=\"#adb2b7\" stroke-opacity=\"1\" stroke-width=\"3.2\"/>\n",
       "<line clip-path=\"url(#clip2802)\" x1=\"1393.18\" y1=\"767.359\" x2=\"1393.18\" y2=\"751.359\" style=\"stroke:#ff0000; stroke-width:3.2; stroke-opacity:1\"/>\n",
       "<line clip-path=\"url(#clip2802)\" x1=\"1393.18\" y1=\"767.359\" x2=\"1377.18\" y2=\"767.359\" style=\"stroke:#ff0000; stroke-width:3.2; stroke-opacity:1\"/>\n",
       "<line clip-path=\"url(#clip2802)\" x1=\"1393.18\" y1=\"767.359\" x2=\"1393.18\" y2=\"783.359\" style=\"stroke:#ff0000; stroke-width:3.2; stroke-opacity:1\"/>\n",
       "<line clip-path=\"url(#clip2802)\" x1=\"1393.18\" y1=\"767.359\" x2=\"1409.18\" y2=\"767.359\" style=\"stroke:#ff0000; stroke-width:3.2; stroke-opacity:1\"/>\n",
       "<line clip-path=\"url(#clip2802)\" x1=\"1393.18\" y1=\"287.283\" x2=\"1393.18\" y2=\"271.283\" style=\"stroke:#ff0000; stroke-width:3.2; stroke-opacity:1\"/>\n",
       "<line clip-path=\"url(#clip2802)\" x1=\"1393.18\" y1=\"287.283\" x2=\"1377.18\" y2=\"287.283\" style=\"stroke:#ff0000; stroke-width:3.2; stroke-opacity:1\"/>\n",
       "<line clip-path=\"url(#clip2802)\" x1=\"1393.18\" y1=\"287.283\" x2=\"1393.18\" y2=\"303.283\" style=\"stroke:#ff0000; stroke-width:3.2; stroke-opacity:1\"/>\n",
       "<line clip-path=\"url(#clip2802)\" x1=\"1393.18\" y1=\"287.283\" x2=\"1409.18\" y2=\"287.283\" style=\"stroke:#ff0000; stroke-width:3.2; stroke-opacity:1\"/>\n",
       "<circle clip-path=\"url(#clip2802)\" cx=\"1713.04\" cy=\"767.359\" r=\"14\" fill=\"#0000ff\" fill-rule=\"evenodd\" fill-opacity=\"1\" stroke=\"#adb2b7\" stroke-opacity=\"1\" stroke-width=\"3.2\"/>\n",
       "<circle clip-path=\"url(#clip2802)\" cx=\"2032.9\" cy=\"1247.44\" r=\"14\" fill=\"#0000ff\" fill-rule=\"evenodd\" fill-opacity=\"1\" stroke=\"#adb2b7\" stroke-opacity=\"1\" stroke-width=\"3.2\"/>\n",
       "<circle clip-path=\"url(#clip2802)\" cx=\"2032.9\" cy=\"767.359\" r=\"14\" fill=\"#0000ff\" fill-rule=\"evenodd\" fill-opacity=\"1\" stroke=\"#adb2b7\" stroke-opacity=\"1\" stroke-width=\"3.2\"/>\n",
       "<line clip-path=\"url(#clip2802)\" x1=\"2032.9\" y1=\"527.321\" x2=\"2032.9\" y2=\"511.321\" style=\"stroke:#ff0000; stroke-width:3.2; stroke-opacity:1\"/>\n",
       "<line clip-path=\"url(#clip2802)\" x1=\"2032.9\" y1=\"527.321\" x2=\"2016.9\" y2=\"527.321\" style=\"stroke:#ff0000; stroke-width:3.2; stroke-opacity:1\"/>\n",
       "<line clip-path=\"url(#clip2802)\" x1=\"2032.9\" y1=\"527.321\" x2=\"2032.9\" y2=\"543.321\" style=\"stroke:#ff0000; stroke-width:3.2; stroke-opacity:1\"/>\n",
       "<line clip-path=\"url(#clip2802)\" x1=\"2032.9\" y1=\"527.321\" x2=\"2048.9\" y2=\"527.321\" style=\"stroke:#ff0000; stroke-width:3.2; stroke-opacity:1\"/>\n",
       "<polyline clip-path=\"url(#clip2802)\" style=\"stroke:#ff008d; stroke-width:4; stroke-opacity:1; fill:none\" points=\"\n",
       "  113.754,1432.08 2032.9,1432.08 \n",
       "  \"/>\n",
       "<polyline clip-path=\"url(#clip2802)\" style=\"stroke:#d07000; stroke-width:4; stroke-opacity:1; fill:none\" points=\"\n",
       "  187.568,1487.47 187.568,-192.794 \n",
       "  \"/>\n",
       "</svg>\n"
      ]
     },
     "execution_count": 15,
     "metadata": {},
     "output_type": "execute_result"
    }
   ],
   "source": [
    "plot!([(0.23076923076923078, 0.0), (0.23076923076923078, 7.0)])"
   ]
  },
  {
   "cell_type": "markdown",
   "metadata": {},
   "source": [
    "<font size=\"10\">your_text_here</font>"
   ]
  },
  {
   "cell_type": "code",
   "execution_count": null,
   "metadata": {},
   "outputs": [],
   "source": []
  }
 ],
 "metadata": {
  "kernelspec": {
   "display_name": "Julia 1.0.5",
   "language": "julia",
   "name": "julia-1.0"
  },
  "language_info": {
   "file_extension": ".jl",
   "mimetype": "application/julia",
   "name": "julia",
   "version": "1.0.5"
  }
 },
 "nbformat": 4,
 "nbformat_minor": 2
}
